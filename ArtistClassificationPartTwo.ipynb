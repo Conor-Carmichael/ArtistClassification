{
  "nbformat": 4,
  "nbformat_minor": 0,
  "metadata": {
    "colab": {
      "name": "ArtistClassificationPartTwo.ipynb",
      "provenance": [],
      "collapsed_sections": [
        "UAJ7YF3z4OS9",
        "X-BPrWEE5UjF",
        "RUo88ZP28z4k",
        "nmkDP6zk-hiD"
      ],
      "toc_visible": true
    },
    "kernelspec": {
      "name": "python3",
      "display_name": "Python 3"
    },
    "accelerator": "GPU",
    "widgets": {
      "application/vnd.jupyter.widget-state+json": {
        "4c3603bc45914548ab82f40d58b71e81": {
          "model_module": "@jupyter-widgets/controls",
          "model_name": "HBoxModel",
          "state": {
            "_view_name": "HBoxView",
            "_dom_classes": [],
            "_model_name": "HBoxModel",
            "_view_module": "@jupyter-widgets/controls",
            "_model_module_version": "1.5.0",
            "_view_count": null,
            "_view_module_version": "1.5.0",
            "box_style": "",
            "layout": "IPY_MODEL_33165024159b498a98f82ebfd7999e29",
            "_model_module": "@jupyter-widgets/controls",
            "children": [
              "IPY_MODEL_6bd3a5b6a5004dd693b02e36bb90bd65",
              "IPY_MODEL_487d32cbfebc41b381300973892ef880"
            ]
          }
        },
        "33165024159b498a98f82ebfd7999e29": {
          "model_module": "@jupyter-widgets/base",
          "model_name": "LayoutModel",
          "state": {
            "_view_name": "LayoutView",
            "grid_template_rows": null,
            "right": null,
            "justify_content": null,
            "_view_module": "@jupyter-widgets/base",
            "overflow": null,
            "_model_module_version": "1.2.0",
            "_view_count": null,
            "flex_flow": null,
            "width": null,
            "min_width": null,
            "border": null,
            "align_items": null,
            "bottom": null,
            "_model_module": "@jupyter-widgets/base",
            "top": null,
            "grid_column": null,
            "overflow_y": null,
            "overflow_x": null,
            "grid_auto_flow": null,
            "grid_area": null,
            "grid_template_columns": null,
            "flex": null,
            "_model_name": "LayoutModel",
            "justify_items": null,
            "grid_row": null,
            "max_height": null,
            "align_content": null,
            "visibility": null,
            "align_self": null,
            "height": null,
            "min_height": null,
            "padding": null,
            "grid_auto_rows": null,
            "grid_gap": null,
            "max_width": null,
            "order": null,
            "_view_module_version": "1.2.0",
            "grid_template_areas": null,
            "object_position": null,
            "object_fit": null,
            "grid_auto_columns": null,
            "margin": null,
            "display": null,
            "left": null
          }
        },
        "6bd3a5b6a5004dd693b02e36bb90bd65": {
          "model_module": "@jupyter-widgets/controls",
          "model_name": "IntProgressModel",
          "state": {
            "_view_name": "ProgressView",
            "style": "IPY_MODEL_d759cbf63cea44cb828bea2adf3af81f",
            "_dom_classes": [],
            "description": "Downloading: 100%",
            "_model_name": "IntProgressModel",
            "bar_style": "success",
            "max": 213450,
            "_view_module": "@jupyter-widgets/controls",
            "_model_module_version": "1.5.0",
            "value": 213450,
            "_view_count": null,
            "_view_module_version": "1.5.0",
            "orientation": "horizontal",
            "min": 0,
            "description_tooltip": null,
            "_model_module": "@jupyter-widgets/controls",
            "layout": "IPY_MODEL_6f754d612b534f049632b03337007aa7"
          }
        },
        "487d32cbfebc41b381300973892ef880": {
          "model_module": "@jupyter-widgets/controls",
          "model_name": "HTMLModel",
          "state": {
            "_view_name": "HTMLView",
            "style": "IPY_MODEL_9f834e8628ec4020a8f0b2906580028b",
            "_dom_classes": [],
            "description": "",
            "_model_name": "HTMLModel",
            "placeholder": "​",
            "_view_module": "@jupyter-widgets/controls",
            "_model_module_version": "1.5.0",
            "value": " 213k/213k [00:00&lt;00:00, 743kB/s]",
            "_view_count": null,
            "_view_module_version": "1.5.0",
            "description_tooltip": null,
            "_model_module": "@jupyter-widgets/controls",
            "layout": "IPY_MODEL_cdd54501d4fb43c98392a979603e1ef5"
          }
        },
        "d759cbf63cea44cb828bea2adf3af81f": {
          "model_module": "@jupyter-widgets/controls",
          "model_name": "ProgressStyleModel",
          "state": {
            "_view_name": "StyleView",
            "_model_name": "ProgressStyleModel",
            "description_width": "initial",
            "_view_module": "@jupyter-widgets/base",
            "_model_module_version": "1.5.0",
            "_view_count": null,
            "_view_module_version": "1.2.0",
            "bar_color": null,
            "_model_module": "@jupyter-widgets/controls"
          }
        },
        "6f754d612b534f049632b03337007aa7": {
          "model_module": "@jupyter-widgets/base",
          "model_name": "LayoutModel",
          "state": {
            "_view_name": "LayoutView",
            "grid_template_rows": null,
            "right": null,
            "justify_content": null,
            "_view_module": "@jupyter-widgets/base",
            "overflow": null,
            "_model_module_version": "1.2.0",
            "_view_count": null,
            "flex_flow": null,
            "width": null,
            "min_width": null,
            "border": null,
            "align_items": null,
            "bottom": null,
            "_model_module": "@jupyter-widgets/base",
            "top": null,
            "grid_column": null,
            "overflow_y": null,
            "overflow_x": null,
            "grid_auto_flow": null,
            "grid_area": null,
            "grid_template_columns": null,
            "flex": null,
            "_model_name": "LayoutModel",
            "justify_items": null,
            "grid_row": null,
            "max_height": null,
            "align_content": null,
            "visibility": null,
            "align_self": null,
            "height": null,
            "min_height": null,
            "padding": null,
            "grid_auto_rows": null,
            "grid_gap": null,
            "max_width": null,
            "order": null,
            "_view_module_version": "1.2.0",
            "grid_template_areas": null,
            "object_position": null,
            "object_fit": null,
            "grid_auto_columns": null,
            "margin": null,
            "display": null,
            "left": null
          }
        },
        "9f834e8628ec4020a8f0b2906580028b": {
          "model_module": "@jupyter-widgets/controls",
          "model_name": "DescriptionStyleModel",
          "state": {
            "_view_name": "StyleView",
            "_model_name": "DescriptionStyleModel",
            "description_width": "",
            "_view_module": "@jupyter-widgets/base",
            "_model_module_version": "1.5.0",
            "_view_count": null,
            "_view_module_version": "1.2.0",
            "_model_module": "@jupyter-widgets/controls"
          }
        },
        "cdd54501d4fb43c98392a979603e1ef5": {
          "model_module": "@jupyter-widgets/base",
          "model_name": "LayoutModel",
          "state": {
            "_view_name": "LayoutView",
            "grid_template_rows": null,
            "right": null,
            "justify_content": null,
            "_view_module": "@jupyter-widgets/base",
            "overflow": null,
            "_model_module_version": "1.2.0",
            "_view_count": null,
            "flex_flow": null,
            "width": null,
            "min_width": null,
            "border": null,
            "align_items": null,
            "bottom": null,
            "_model_module": "@jupyter-widgets/base",
            "top": null,
            "grid_column": null,
            "overflow_y": null,
            "overflow_x": null,
            "grid_auto_flow": null,
            "grid_area": null,
            "grid_template_columns": null,
            "flex": null,
            "_model_name": "LayoutModel",
            "justify_items": null,
            "grid_row": null,
            "max_height": null,
            "align_content": null,
            "visibility": null,
            "align_self": null,
            "height": null,
            "min_height": null,
            "padding": null,
            "grid_auto_rows": null,
            "grid_gap": null,
            "max_width": null,
            "order": null,
            "_view_module_version": "1.2.0",
            "grid_template_areas": null,
            "object_position": null,
            "object_fit": null,
            "grid_auto_columns": null,
            "margin": null,
            "display": null,
            "left": null
          }
        },
        "afea82fb3bc04cbeb0d1d3cc5675aa16": {
          "model_module": "@jupyter-widgets/controls",
          "model_name": "HBoxModel",
          "state": {
            "_view_name": "HBoxView",
            "_dom_classes": [],
            "_model_name": "HBoxModel",
            "_view_module": "@jupyter-widgets/controls",
            "_model_module_version": "1.5.0",
            "_view_count": null,
            "_view_module_version": "1.5.0",
            "box_style": "",
            "layout": "IPY_MODEL_485c29b18f184ef68958f319a701f973",
            "_model_module": "@jupyter-widgets/controls",
            "children": [
              "IPY_MODEL_8652cf7d0a734ebbaaaaeadcf99bb11c",
              "IPY_MODEL_bbc83122396049208ff4c355252e6bb4"
            ]
          }
        },
        "485c29b18f184ef68958f319a701f973": {
          "model_module": "@jupyter-widgets/base",
          "model_name": "LayoutModel",
          "state": {
            "_view_name": "LayoutView",
            "grid_template_rows": null,
            "right": null,
            "justify_content": null,
            "_view_module": "@jupyter-widgets/base",
            "overflow": null,
            "_model_module_version": "1.2.0",
            "_view_count": null,
            "flex_flow": null,
            "width": null,
            "min_width": null,
            "border": null,
            "align_items": null,
            "bottom": null,
            "_model_module": "@jupyter-widgets/base",
            "top": null,
            "grid_column": null,
            "overflow_y": null,
            "overflow_x": null,
            "grid_auto_flow": null,
            "grid_area": null,
            "grid_template_columns": null,
            "flex": null,
            "_model_name": "LayoutModel",
            "justify_items": null,
            "grid_row": null,
            "max_height": null,
            "align_content": null,
            "visibility": null,
            "align_self": null,
            "height": null,
            "min_height": null,
            "padding": null,
            "grid_auto_rows": null,
            "grid_gap": null,
            "max_width": null,
            "order": null,
            "_view_module_version": "1.2.0",
            "grid_template_areas": null,
            "object_position": null,
            "object_fit": null,
            "grid_auto_columns": null,
            "margin": null,
            "display": null,
            "left": null
          }
        },
        "8652cf7d0a734ebbaaaaeadcf99bb11c": {
          "model_module": "@jupyter-widgets/controls",
          "model_name": "IntProgressModel",
          "state": {
            "_view_name": "ProgressView",
            "style": "IPY_MODEL_dd4bb056ed7c42008a2431d4bfd36e74",
            "_dom_classes": [],
            "description": "Downloading: 100%",
            "_model_name": "IntProgressModel",
            "bar_style": "success",
            "max": 361,
            "_view_module": "@jupyter-widgets/controls",
            "_model_module_version": "1.5.0",
            "value": 361,
            "_view_count": null,
            "_view_module_version": "1.5.0",
            "orientation": "horizontal",
            "min": 0,
            "description_tooltip": null,
            "_model_module": "@jupyter-widgets/controls",
            "layout": "IPY_MODEL_0a34b4f253e24c50b8689baef9f62015"
          }
        },
        "bbc83122396049208ff4c355252e6bb4": {
          "model_module": "@jupyter-widgets/controls",
          "model_name": "HTMLModel",
          "state": {
            "_view_name": "HTMLView",
            "style": "IPY_MODEL_dcf942781fa04127820a6475e9e21611",
            "_dom_classes": [],
            "description": "",
            "_model_name": "HTMLModel",
            "placeholder": "​",
            "_view_module": "@jupyter-widgets/controls",
            "_model_module_version": "1.5.0",
            "value": " 361/361 [00:00&lt;00:00, 718B/s]",
            "_view_count": null,
            "_view_module_version": "1.5.0",
            "description_tooltip": null,
            "_model_module": "@jupyter-widgets/controls",
            "layout": "IPY_MODEL_9da7e70eef634481b2b1cb8090fc3abc"
          }
        },
        "dd4bb056ed7c42008a2431d4bfd36e74": {
          "model_module": "@jupyter-widgets/controls",
          "model_name": "ProgressStyleModel",
          "state": {
            "_view_name": "StyleView",
            "_model_name": "ProgressStyleModel",
            "description_width": "initial",
            "_view_module": "@jupyter-widgets/base",
            "_model_module_version": "1.5.0",
            "_view_count": null,
            "_view_module_version": "1.2.0",
            "bar_color": null,
            "_model_module": "@jupyter-widgets/controls"
          }
        },
        "0a34b4f253e24c50b8689baef9f62015": {
          "model_module": "@jupyter-widgets/base",
          "model_name": "LayoutModel",
          "state": {
            "_view_name": "LayoutView",
            "grid_template_rows": null,
            "right": null,
            "justify_content": null,
            "_view_module": "@jupyter-widgets/base",
            "overflow": null,
            "_model_module_version": "1.2.0",
            "_view_count": null,
            "flex_flow": null,
            "width": null,
            "min_width": null,
            "border": null,
            "align_items": null,
            "bottom": null,
            "_model_module": "@jupyter-widgets/base",
            "top": null,
            "grid_column": null,
            "overflow_y": null,
            "overflow_x": null,
            "grid_auto_flow": null,
            "grid_area": null,
            "grid_template_columns": null,
            "flex": null,
            "_model_name": "LayoutModel",
            "justify_items": null,
            "grid_row": null,
            "max_height": null,
            "align_content": null,
            "visibility": null,
            "align_self": null,
            "height": null,
            "min_height": null,
            "padding": null,
            "grid_auto_rows": null,
            "grid_gap": null,
            "max_width": null,
            "order": null,
            "_view_module_version": "1.2.0",
            "grid_template_areas": null,
            "object_position": null,
            "object_fit": null,
            "grid_auto_columns": null,
            "margin": null,
            "display": null,
            "left": null
          }
        },
        "dcf942781fa04127820a6475e9e21611": {
          "model_module": "@jupyter-widgets/controls",
          "model_name": "DescriptionStyleModel",
          "state": {
            "_view_name": "StyleView",
            "_model_name": "DescriptionStyleModel",
            "description_width": "",
            "_view_module": "@jupyter-widgets/base",
            "_model_module_version": "1.5.0",
            "_view_count": null,
            "_view_module_version": "1.2.0",
            "_model_module": "@jupyter-widgets/controls"
          }
        },
        "9da7e70eef634481b2b1cb8090fc3abc": {
          "model_module": "@jupyter-widgets/base",
          "model_name": "LayoutModel",
          "state": {
            "_view_name": "LayoutView",
            "grid_template_rows": null,
            "right": null,
            "justify_content": null,
            "_view_module": "@jupyter-widgets/base",
            "overflow": null,
            "_model_module_version": "1.2.0",
            "_view_count": null,
            "flex_flow": null,
            "width": null,
            "min_width": null,
            "border": null,
            "align_items": null,
            "bottom": null,
            "_model_module": "@jupyter-widgets/base",
            "top": null,
            "grid_column": null,
            "overflow_y": null,
            "overflow_x": null,
            "grid_auto_flow": null,
            "grid_area": null,
            "grid_template_columns": null,
            "flex": null,
            "_model_name": "LayoutModel",
            "justify_items": null,
            "grid_row": null,
            "max_height": null,
            "align_content": null,
            "visibility": null,
            "align_self": null,
            "height": null,
            "min_height": null,
            "padding": null,
            "grid_auto_rows": null,
            "grid_gap": null,
            "max_width": null,
            "order": null,
            "_view_module_version": "1.2.0",
            "grid_template_areas": null,
            "object_position": null,
            "object_fit": null,
            "grid_auto_columns": null,
            "margin": null,
            "display": null,
            "left": null
          }
        },
        "68d78e555cf648d89e96d1d13e85c92a": {
          "model_module": "@jupyter-widgets/controls",
          "model_name": "HBoxModel",
          "state": {
            "_view_name": "HBoxView",
            "_dom_classes": [],
            "_model_name": "HBoxModel",
            "_view_module": "@jupyter-widgets/controls",
            "_model_module_version": "1.5.0",
            "_view_count": null,
            "_view_module_version": "1.5.0",
            "box_style": "",
            "layout": "IPY_MODEL_624047f483294ee69ef8efda1e970b12",
            "_model_module": "@jupyter-widgets/controls",
            "children": [
              "IPY_MODEL_2c90bb1463fb411b85cdb4cd2400f937",
              "IPY_MODEL_385a2a19d92041b7b42c94f7d8771434"
            ]
          }
        },
        "624047f483294ee69ef8efda1e970b12": {
          "model_module": "@jupyter-widgets/base",
          "model_name": "LayoutModel",
          "state": {
            "_view_name": "LayoutView",
            "grid_template_rows": null,
            "right": null,
            "justify_content": null,
            "_view_module": "@jupyter-widgets/base",
            "overflow": null,
            "_model_module_version": "1.2.0",
            "_view_count": null,
            "flex_flow": null,
            "width": null,
            "min_width": null,
            "border": null,
            "align_items": null,
            "bottom": null,
            "_model_module": "@jupyter-widgets/base",
            "top": null,
            "grid_column": null,
            "overflow_y": null,
            "overflow_x": null,
            "grid_auto_flow": null,
            "grid_area": null,
            "grid_template_columns": null,
            "flex": null,
            "_model_name": "LayoutModel",
            "justify_items": null,
            "grid_row": null,
            "max_height": null,
            "align_content": null,
            "visibility": null,
            "align_self": null,
            "height": null,
            "min_height": null,
            "padding": null,
            "grid_auto_rows": null,
            "grid_gap": null,
            "max_width": null,
            "order": null,
            "_view_module_version": "1.2.0",
            "grid_template_areas": null,
            "object_position": null,
            "object_fit": null,
            "grid_auto_columns": null,
            "margin": null,
            "display": null,
            "left": null
          }
        },
        "2c90bb1463fb411b85cdb4cd2400f937": {
          "model_module": "@jupyter-widgets/controls",
          "model_name": "IntProgressModel",
          "state": {
            "_view_name": "ProgressView",
            "style": "IPY_MODEL_7f865e4c2eff4ad4a5f6e29b218982f2",
            "_dom_classes": [],
            "description": "Downloading: 100%",
            "_model_name": "IntProgressModel",
            "bar_style": "success",
            "max": 435779157,
            "_view_module": "@jupyter-widgets/controls",
            "_model_module_version": "1.5.0",
            "value": 435779157,
            "_view_count": null,
            "_view_module_version": "1.5.0",
            "orientation": "horizontal",
            "min": 0,
            "description_tooltip": null,
            "_model_module": "@jupyter-widgets/controls",
            "layout": "IPY_MODEL_0a2819f8ce7c47dd94e0443ddf534066"
          }
        },
        "385a2a19d92041b7b42c94f7d8771434": {
          "model_module": "@jupyter-widgets/controls",
          "model_name": "HTMLModel",
          "state": {
            "_view_name": "HTMLView",
            "style": "IPY_MODEL_e7447d688a63494bbf0183f4f6ef6965",
            "_dom_classes": [],
            "description": "",
            "_model_name": "HTMLModel",
            "placeholder": "​",
            "_view_module": "@jupyter-widgets/controls",
            "_model_module_version": "1.5.0",
            "value": " 436M/436M [00:15&lt;00:00, 28.6MB/s]",
            "_view_count": null,
            "_view_module_version": "1.5.0",
            "description_tooltip": null,
            "_model_module": "@jupyter-widgets/controls",
            "layout": "IPY_MODEL_2bc1340aabe2448891745d13ee0f6cfa"
          }
        },
        "7f865e4c2eff4ad4a5f6e29b218982f2": {
          "model_module": "@jupyter-widgets/controls",
          "model_name": "ProgressStyleModel",
          "state": {
            "_view_name": "StyleView",
            "_model_name": "ProgressStyleModel",
            "description_width": "initial",
            "_view_module": "@jupyter-widgets/base",
            "_model_module_version": "1.5.0",
            "_view_count": null,
            "_view_module_version": "1.2.0",
            "bar_color": null,
            "_model_module": "@jupyter-widgets/controls"
          }
        },
        "0a2819f8ce7c47dd94e0443ddf534066": {
          "model_module": "@jupyter-widgets/base",
          "model_name": "LayoutModel",
          "state": {
            "_view_name": "LayoutView",
            "grid_template_rows": null,
            "right": null,
            "justify_content": null,
            "_view_module": "@jupyter-widgets/base",
            "overflow": null,
            "_model_module_version": "1.2.0",
            "_view_count": null,
            "flex_flow": null,
            "width": null,
            "min_width": null,
            "border": null,
            "align_items": null,
            "bottom": null,
            "_model_module": "@jupyter-widgets/base",
            "top": null,
            "grid_column": null,
            "overflow_y": null,
            "overflow_x": null,
            "grid_auto_flow": null,
            "grid_area": null,
            "grid_template_columns": null,
            "flex": null,
            "_model_name": "LayoutModel",
            "justify_items": null,
            "grid_row": null,
            "max_height": null,
            "align_content": null,
            "visibility": null,
            "align_self": null,
            "height": null,
            "min_height": null,
            "padding": null,
            "grid_auto_rows": null,
            "grid_gap": null,
            "max_width": null,
            "order": null,
            "_view_module_version": "1.2.0",
            "grid_template_areas": null,
            "object_position": null,
            "object_fit": null,
            "grid_auto_columns": null,
            "margin": null,
            "display": null,
            "left": null
          }
        },
        "e7447d688a63494bbf0183f4f6ef6965": {
          "model_module": "@jupyter-widgets/controls",
          "model_name": "DescriptionStyleModel",
          "state": {
            "_view_name": "StyleView",
            "_model_name": "DescriptionStyleModel",
            "description_width": "",
            "_view_module": "@jupyter-widgets/base",
            "_model_module_version": "1.5.0",
            "_view_count": null,
            "_view_module_version": "1.2.0",
            "_model_module": "@jupyter-widgets/controls"
          }
        },
        "2bc1340aabe2448891745d13ee0f6cfa": {
          "model_module": "@jupyter-widgets/base",
          "model_name": "LayoutModel",
          "state": {
            "_view_name": "LayoutView",
            "grid_template_rows": null,
            "right": null,
            "justify_content": null,
            "_view_module": "@jupyter-widgets/base",
            "overflow": null,
            "_model_module_version": "1.2.0",
            "_view_count": null,
            "flex_flow": null,
            "width": null,
            "min_width": null,
            "border": null,
            "align_items": null,
            "bottom": null,
            "_model_module": "@jupyter-widgets/base",
            "top": null,
            "grid_column": null,
            "overflow_y": null,
            "overflow_x": null,
            "grid_auto_flow": null,
            "grid_area": null,
            "grid_template_columns": null,
            "flex": null,
            "_model_name": "LayoutModel",
            "justify_items": null,
            "grid_row": null,
            "max_height": null,
            "align_content": null,
            "visibility": null,
            "align_self": null,
            "height": null,
            "min_height": null,
            "padding": null,
            "grid_auto_rows": null,
            "grid_gap": null,
            "max_width": null,
            "order": null,
            "_view_module_version": "1.2.0",
            "grid_template_areas": null,
            "object_position": null,
            "object_fit": null,
            "grid_auto_columns": null,
            "margin": null,
            "display": null,
            "left": null
          }
        }
      }
    }
  },
  "cells": [
    {
      "cell_type": "markdown",
      "metadata": {
        "id": "WvZqsHUdpZT8",
        "colab_type": "text"
      },
      "source": [
        "#**Artist Identification:** Part Two\n",
        "\n",
        "Conor Carmichael\n",
        "---\n",
        "\n",
        "In this notebook, I am going to try and improve on the previous task by using an the BERT Model from Google. BERT (Bidirectional Encoding Representations from Transformers) is a model that greatly improved upon similar previous work.\n",
        "\n",
        "Here, I will use it on the same data set as before, in order to predict which artist wrote which verses. The training data is not enough to train a deep learning model from scratch, but BERT is a pretrained model, open for transfer learning. \n",
        "\n",
        "\n",
        "**References**\n",
        "* [BERT Fine Tuning with PyTorch](https://colab.research.google.com/drive/1Y4o3jh3ZH70tl6mCd76vz_IxX23biCPP#scrollTo=EKOTlwcmxmej), Chris McCormick and Nick Ryan. Heavily derived from this source, very great tutorial on transfer learning with BERT.\n"
      ]
    },
    {
      "cell_type": "markdown",
      "metadata": {
        "id": "xPBImQmK3nfO",
        "colab_type": "text"
      },
      "source": [
        "#1: Setup"
      ]
    },
    {
      "cell_type": "markdown",
      "metadata": {
        "id": "5Mk6Hs150dji",
        "colab_type": "text"
      },
      "source": [
        "##a) Imports, Installations"
      ]
    },
    {
      "cell_type": "markdown",
      "metadata": {
        "id": "1q0UQIrU0CrZ",
        "colab_type": "text"
      },
      "source": [
        "**Installations**\n",
        "\n"
      ]
    },
    {
      "cell_type": "code",
      "metadata": {
        "id": "0fVRoKJb0EgB",
        "colab_type": "code",
        "outputId": "3a499a6f-8850-4d77-d02a-d36bb20060d4",
        "colab": {
          "base_uri": "https://localhost:8080/",
          "height": 972
        }
      },
      "source": [
        "!pip install transformers\n",
        "!pip install lyricsgenius\n",
        "!pip install vaderSentiment\n"
      ],
      "execution_count": 0,
      "outputs": [
        {
          "output_type": "stream",
          "text": [
            "Installing collected packages: tokenizers, sentencepiece, sacremoses, transformers\n",
            "Successfully installed sacremoses-0.0.38 sentencepiece-0.1.85 tokenizers-0.5.2 transformers-2.6.0\n",
            "Collecting lyricsgenius\n",
            "  Downloading https://files.pythonhosted.org/packages/4a/47/5aba67735bf3b7f2b1f4c1e5d1f9892050847e27e7fafdec14fc72d41bc1/lyricsgenius-1.8.2-py3-none-any.whl\n",
            "Collecting beautifulsoup4==4.6.0\n",
            "\u001b[?25l  Downloading https://files.pythonhosted.org/packages/9e/d4/10f46e5cfac773e22707237bfcd51bbffeaf0a576b0a847ec7ab15bd7ace/beautifulsoup4-4.6.0-py3-none-any.whl (86kB)\n",
            "\u001b[K     |████████████████████████████████| 92kB 7.0MB/s \n",
            "\u001b[?25hRequirement already satisfied: requests>=2.20.0 in /usr/local/lib/python3.6/dist-packages (from lyricsgenius) (2.21.0)\n",
            "Requirement already satisfied: chardet<3.1.0,>=3.0.2 in /usr/local/lib/python3.6/dist-packages (from requests>=2.20.0->lyricsgenius) (3.0.4)\n",
            "Requirement already satisfied: urllib3<1.25,>=1.21.1 in /usr/local/lib/python3.6/dist-packages (from requests>=2.20.0->lyricsgenius) (1.24.3)\n",
            "Requirement already satisfied: idna<2.9,>=2.5 in /usr/local/lib/python3.6/dist-packages (from requests>=2.20.0->lyricsgenius) (2.8)\n",
            "Requirement already satisfied: certifi>=2017.4.17 in /usr/local/lib/python3.6/dist-packages (from requests>=2.20.0->lyricsgenius) (2019.11.28)\n",
            "Installing collected packages: beautifulsoup4, lyricsgenius\n",
            "  Found existing installation: beautifulsoup4 4.6.3\n",
            "    Uninstalling beautifulsoup4-4.6.3:\n",
            "      Successfully uninstalled beautifulsoup4-4.6.3\n",
            "Successfully installed beautifulsoup4-4.6.0 lyricsgenius-1.8.2\n",
            "Collecting vaderSentiment\n",
            "\u001b[?25l  Downloading https://files.pythonhosted.org/packages/44/a3/1218a3b5651dbcba1699101c84e5c84c36cbba360d9dbf29f2ff18482982/vaderSentiment-3.3.1-py2.py3-none-any.whl (125kB)\n",
            "\u001b[K     |████████████████████████████████| 133kB 8.4MB/s \n",
            "\u001b[?25hInstalling collected packages: vaderSentiment\n",
            "Successfully installed vaderSentiment-3.3.1\n",
            "Requirement already satisfied: transformers in /usr/local/lib/python3.6/dist-packages (2.6.0)\n",
            "Requirement already satisfied: filelock in /usr/local/lib/python3.6/dist-packages (from transformers) (3.0.12)\n",
            "Requirement already satisfied: tokenizers==0.5.2 in /usr/local/lib/python3.6/dist-packages (from transformers) (0.5.2)\n",
            "Requirement already satisfied: sentencepiece in /usr/local/lib/python3.6/dist-packages (from transformers) (0.1.85)\n",
            "Requirement already satisfied: requests in /usr/local/lib/python3.6/dist-packages (from transformers) (2.21.0)\n",
            "Requirement already satisfied: sacremoses in /usr/local/lib/python3.6/dist-packages (from transformers) (0.0.38)\n",
            "Requirement already satisfied: regex!=2019.12.17 in /usr/local/lib/python3.6/dist-packages (from transformers) (2019.12.20)\n",
            "Requirement already satisfied: numpy in /usr/local/lib/python3.6/dist-packages (from transformers) (1.18.2)\n",
            "Requirement already satisfied: tqdm>=4.27 in /usr/local/lib/python3.6/dist-packages (from transformers) (4.38.0)\n",
            "Requirement already satisfied: boto3 in /usr/local/lib/python3.6/dist-packages (from transformers) (1.12.27)\n",
            "Requirement already satisfied: chardet<3.1.0,>=3.0.2 in /usr/local/lib/python3.6/dist-packages (from requests->transformers) (3.0.4)\n",
            "Requirement already satisfied: idna<2.9,>=2.5 in /usr/local/lib/python3.6/dist-packages (from requests->transformers) (2.8)\n",
            "Requirement already satisfied: urllib3<1.25,>=1.21.1 in /usr/local/lib/python3.6/dist-packages (from requests->transformers) (1.24.3)\n",
            "Requirement already satisfied: certifi>=2017.4.17 in /usr/local/lib/python3.6/dist-packages (from requests->transformers) (2019.11.28)\n",
            "Requirement already satisfied: click in /usr/local/lib/python3.6/dist-packages (from sacremoses->transformers) (7.1.1)\n",
            "Requirement already satisfied: six in /usr/local/lib/python3.6/dist-packages (from sacremoses->transformers) (1.12.0)\n",
            "Requirement already satisfied: joblib in /usr/local/lib/python3.6/dist-packages (from sacremoses->transformers) (0.14.1)\n",
            "Requirement already satisfied: jmespath<1.0.0,>=0.7.1 in /usr/local/lib/python3.6/dist-packages (from boto3->transformers) (0.9.5)\n",
            "Requirement already satisfied: botocore<1.16.0,>=1.15.27 in /usr/local/lib/python3.6/dist-packages (from boto3->transformers) (1.15.27)\n",
            "Requirement already satisfied: s3transfer<0.4.0,>=0.3.0 in /usr/local/lib/python3.6/dist-packages (from boto3->transformers) (0.3.3)\n",
            "Requirement already satisfied: docutils<0.16,>=0.10 in /usr/local/lib/python3.6/dist-packages (from botocore<1.16.0,>=1.15.27->boto3->transformers) (0.15.2)\n",
            "Requirement already satisfied: python-dateutil<3.0.0,>=2.1 in /usr/local/lib/python3.6/dist-packages (from botocore<1.16.0,>=1.15.27->boto3->transformers) (2.8.1)\n",
            "Requirement already satisfied: lyricsgenius in /usr/local/lib/python3.6/dist-packages (1.8.2)\n",
            "Requirement already satisfied: beautifulsoup4==4.6.0 in /usr/local/lib/python3.6/dist-packages (from lyricsgenius) (4.6.0)\n",
            "Requirement already satisfied: requests>=2.20.0 in /usr/local/lib/python3.6/dist-packages (from lyricsgenius) (2.21.0)\n",
            "Requirement already satisfied: idna<2.9,>=2.5 in /usr/local/lib/python3.6/dist-packages (from requests>=2.20.0->lyricsgenius) (2.8)\n",
            "Requirement already satisfied: certifi>=2017.4.17 in /usr/local/lib/python3.6/dist-packages (from requests>=2.20.0->lyricsgenius) (2019.11.28)\n",
            "Requirement already satisfied: urllib3<1.25,>=1.21.1 in /usr/local/lib/python3.6/dist-packages (from requests>=2.20.0->lyricsgenius) (1.24.3)\n",
            "Requirement already satisfied: chardet<3.1.0,>=3.0.2 in /usr/local/lib/python3.6/dist-packages (from requests>=2.20.0->lyricsgenius) (3.0.4)\n",
            "Requirement already satisfied: vaderSentiment in /usr/local/lib/python3.6/dist-packages (3.3.1)\n"
          ],
          "name": "stdout"
        }
      ]
    },
    {
      "cell_type": "markdown",
      "metadata": {
        "id": "gMkx5fPWy2EP",
        "colab_type": "text"
      },
      "source": [
        "**Imports**"
      ]
    },
    {
      "cell_type": "code",
      "metadata": {
        "id": "zfFK0V5Ty13Z",
        "colab_type": "code",
        "outputId": "0604743f-9530-454e-d530-f6a458d9bf89",
        "colab": {
          "base_uri": "https://localhost:8080/",
          "height": 109
        }
      },
      "source": [
        "\n",
        "#Lyrics\n",
        "import lyricsgenius as lg\n",
        "\n",
        "#General Imports\n",
        "print(\"General imports...\")\n",
        "import time, os, re, itertools, copy, datetime\n",
        "import numpy as np\n",
        "import pandas as pd\n",
        "import seaborn as sn\n",
        "import matplotlib.pyplot as plt\n",
        "from IPython.display import display, clear_output\n",
        "from tempfile import mkdtemp\n",
        "\n",
        "from gensim.test.utils import get_tmpfile\n",
        "\n",
        "#Metrics\n",
        "print(\"Metrics imports...\")\n",
        "from sklearn.metrics import f1_score, accuracy_score, average_precision_score, recall_score, confusion_matrix, classification_report\n",
        "from sklearn import preprocessing\n",
        "from sklearn.model_selection import GridSearchCV\n",
        "from sklearn.feature_selection import SelectKBest, f_classif\n",
        "%tensorflow_version 1.x\n",
        "import tensorflow as tf\n",
        "import torch\n",
        "from transformers import BertTokenizer\n",
        "from keras.preprocessing.sequence import pad_sequences\n",
        "from sklearn.model_selection import train_test_split\n",
        "from torch.utils.data import TensorDataset, DataLoader, RandomSampler, SequentialSampler\n",
        "\n",
        "\n",
        "#SKLearn classifier \n",
        "from sklearn.svm import SVC\n",
        "from sklearn.feature_extraction.text import TfidfVectorizer\n",
        "from sklearn.pipeline import FeatureUnion, Pipeline\n",
        "from sklearn.base import BaseEstimator, TransformerMixin\n",
        "from sklearn.preprocessing import StandardScaler\n",
        "from gensim.models.doc2vec import Doc2Vec, TaggedDocument\n",
        "from vaderSentiment.vaderSentiment import SentimentIntensityAnalyzer\n",
        "import spacy\n",
        "import nltk\n",
        "\n",
        "print('Done.')"
      ],
      "execution_count": 0,
      "outputs": [
        {
          "output_type": "stream",
          "text": [
            "General imports...\n",
            "Metrics imports...\n",
            "TensorFlow 1.x selected.\n"
          ],
          "name": "stdout"
        },
        {
          "output_type": "stream",
          "text": [
            "Using TensorFlow backend.\n"
          ],
          "name": "stderr"
        },
        {
          "output_type": "stream",
          "text": [
            "Done.\n"
          ],
          "name": "stdout"
        }
      ]
    },
    {
      "cell_type": "markdown",
      "metadata": {
        "id": "UAJ7YF3z4OS9",
        "colab_type": "text"
      },
      "source": [
        "##b) GPU Setup"
      ]
    },
    {
      "cell_type": "code",
      "metadata": {
        "id": "nMdE-iJY4Q44",
        "colab_type": "code",
        "outputId": "a2c88fc9-6267-40ab-b639-78698312afd1",
        "colab": {
          "base_uri": "https://localhost:8080/"
        }
      },
      "source": [
        "# Get the GPU device name.\n",
        "device_name = tf.test.gpu_device_name()\n",
        "\n",
        "# The device name should look like the following:\n",
        "if device_name == '/device:GPU:0':\n",
        "    print('Found GPU at: {}'.format(device_name))\n",
        "else:\n",
        "    raise SystemError('GPU device not found')\n",
        "    \n",
        "\n",
        "if torch.cuda.is_available():    \n",
        "\n",
        "    device = torch.device(\"cuda\")\n",
        "    print('There are %d GPU(s) available.' % torch.cuda.device_count())\n",
        "    print('We will use the GPU:', torch.cuda.get_device_name(0))\n",
        "\n",
        "# If not...\n",
        "else:\n",
        "    print('No GPU available, using the CPU instead.')\n",
        "    device = torch.device(\"cpu\")"
      ],
      "execution_count": 0,
      "outputs": [
        {
          "output_type": "stream",
          "text": [
            "Found GPU at: /device:GPU:0\n",
            "There are 1 GPU(s) available.\n",
            "We will use the GPU: Tesla P4\n"
          ],
          "name": "stdout"
        }
      ]
    },
    {
      "cell_type": "markdown",
      "metadata": {
        "id": "WN-O5h4RxW_e",
        "colab_type": "text"
      },
      "source": [
        "##c) Fetching Data"
      ]
    },
    {
      "cell_type": "code",
      "metadata": {
        "id": "GWE_M50nxaEj",
        "colab_type": "code",
        "outputId": "f3addcc5-9d0a-4a96-f555-5bd79138c06e",
        "colab": {
          "base_uri": "https://localhost:8080/",
          "height": 129
        }
      },
      "source": [
        "from google.colab import drive\n",
        "drive.mount('/content/drive/', force_remount=True)\n",
        "\n",
        "file_path = '/content/drive/My Drive/Personal Projects/ArtistClassification'\n",
        "file_name = 'lyrics_data.csv'\n",
        "d2v_model = get_tmpfile(\"trained_d2v\")\n",
        "\n",
        "artists = ['The 1975', 'John Mayer', 'J. Cole', 'Kanye West', 'Modest Mouse', 'Red Hot Chili Peppers', \"Taylor Swift\"]\n",
        "colors = ['grey',      'cyan',       'tan',     'orange',     'green',        'red',                   'magenta']\n"
      ],
      "execution_count": 0,
      "outputs": [
        {
          "output_type": "stream",
          "text": [
            "Go to this URL in a browser: https://accounts.google.com/o/oauth2/auth?client_id=947318989803-6bn6qk8qdgf4n4g3pfee6491hc0brc4i.apps.googleusercontent.com&redirect_uri=urn%3aietf%3awg%3aoauth%3a2.0%3aoob&response_type=code&scope=email%20https%3a%2f%2fwww.googleapis.com%2fauth%2fdocs.test%20https%3a%2f%2fwww.googleapis.com%2fauth%2fdrive%20https%3a%2f%2fwww.googleapis.com%2fauth%2fdrive.photos.readonly%20https%3a%2f%2fwww.googleapis.com%2fauth%2fpeopleapi.readonly\n",
            "\n",
            "Enter your authorization code:\n",
            "··········\n",
            "Mounted at /content/drive/\n"
          ],
          "name": "stdout"
        }
      ]
    },
    {
      "cell_type": "markdown",
      "metadata": {
        "id": "uju4-IwMyfia",
        "colab_type": "text"
      },
      "source": [
        "If downloading new artist information:"
      ]
    },
    {
      "cell_type": "code",
      "metadata": {
        "id": "d36IuAQKye9w",
        "colab_type": "code",
        "colab": {}
      },
      "source": [
        "def retrieve_songs(artists, max_songs=100, sort='popularity', get_full_info=False):\n",
        "    print(\"Retriving the top {} songs from artist, sorted by {}.\\n\".format(max_songs, sort))\n",
        "    results = []\n",
        "    for a in artists:\n",
        "        start = time.time()\n",
        "        artist = genius.search_artist(a, get_full_info=get_full_info, max_songs=max_songs, sort=sort)\n",
        "        print('Finished {} in {:0.2}s.'.format(a, time.time()-start))\n",
        "        results.append(artist)\n",
        "    \n",
        "    return results\n",
        "\n",
        "def reformat(artists, split=None):\n",
        "    collection = []\n",
        "    for artist in artists:\n",
        "        name = artist.name\n",
        "    \n",
        "        for song in artist.songs:\n",
        "            df_template = {}\n",
        "\n",
        "            df_template['name'] = name\n",
        "            df_template['title'] = song.title\n",
        "            df_template['album'] = song.album\n",
        "            df_template['release_date'] = song.year\n",
        "            df_template['lyrics'] = song.lyrics\n",
        "\n",
        "            collection.append(df_template)  \n",
        "    return collection\n",
        "\n",
        "def save_df_to_drive(dataframe, fname, path):\n",
        "    dataframe.to_csv(fname)\n",
        "    !cp fname file_path\n",
        "\n",
        "def add_artist(name, dataframe, max_songs=100, sort='popularity', get_full_info=False):\n",
        "    # Adds artist to dataframe, copies to the drive, returns the new dataframe\n",
        "    artist = genius.search_artist(name, get_full_info=get_full_info, max_songs=max_songs, sort=sort)\n",
        "    df_add = artist_to_df(artist)\n",
        "    res = dataframe.append(df_add)\n",
        "    save_df_to_drive(res, os.path.join(file_path, file_name))\n",
        "    return res"
      ],
      "execution_count": 0,
      "outputs": []
    },
    {
      "cell_type": "markdown",
      "metadata": {
        "id": "r3x731MHynAf",
        "colab_type": "text"
      },
      "source": [
        "Try to fetch CSV, if fails download from genius.com\n"
      ]
    },
    {
      "cell_type": "code",
      "metadata": {
        "id": "RKjexPWryrw0",
        "colab_type": "code",
        "outputId": "5166cbcd-fd2d-45b3-8391-ee16b18b7312",
        "colab": {
          "base_uri": "https://localhost:8080/",
          "height": 54
        }
      },
      "source": [
        "mask_client = len('client_access_token=')\n",
        "genius_credentials = {}\n",
        "\n",
        "#Important, takes a while to retrieve songs\n",
        "MAX_SONGS = 100\n",
        "FETCH_ON = 'popularity'\n",
        "\n",
        "try: #Get data from google drive\n",
        "    print('Reading data in from drive %s.' % (os.path.join(file_path, file_name)))\n",
        "    raw_data = pd.read_csv(os.path.join(file_path, file_name) )\n",
        "    print('Successfuly pulled data from Drive.')\n",
        "except Exception as e:\n",
        "    #If fails, open genius info file and get client access token, retrieve song info.\n",
        "    print('File not found.')\n",
        "\n",
        "    with open('/content/drive/My Drive/genius.txt', 'r') as r: #This will likely fail if you are not me. That is ok.\n",
        "        lines = r.readlines()\n",
        "        try:\n",
        "            genius_credentials['client'] = lines[2][mask_client:]\n",
        "            if genius_credentials['client']:\n",
        "                genius = lg.Genius(genius_credentials['client'])\n",
        "            r.close()\n",
        "            \n",
        "        except Exception as e:\n",
        "            #If access token is not available, get token from user in order to retrieve song infor\n",
        "            print(e)\n",
        "            print('\\nCredentials were not secured.\\n')\n",
        "            token = input('Input your client access token in order to continue: ')\n",
        "            genius = lg.Genius(token)\n",
        "\n",
        "        finally:\n",
        "            #Live songs, remixes etc, just add redundancy. \n",
        "            genius.excluded_terms = ['(Remix)', '(Live)','Interlude', '(Demo)', '(Freestyle)']\n",
        "\n",
        "            # Fetch songs, for the artists defined above\n",
        "            results = retrieve_songs(artists, max_songs=MAX_SONGS, sort=FETCH_ON, get_full_info=False) \n",
        "            \n",
        "            # Convert to appropriate format for task, then store as DataFrame\n",
        "            results_processed = reformat(results)\n",
        "            raw_data = pd.DataFrame(results_processed)\n",
        "\n",
        "            #Create CSV, stores in Drive\n",
        "            raw_data.to_csv(os.path.join(file_path, file_name))"
      ],
      "execution_count": 0,
      "outputs": [
        {
          "output_type": "stream",
          "text": [
            "Reading data in from drive /content/drive/My Drive/Personal Projects/ArtistClassification/lyrics_data.csv.\n",
            "Successfuly pulled data from Drive.\n"
          ],
          "name": "stdout"
        }
      ]
    },
    {
      "cell_type": "markdown",
      "metadata": {
        "id": "rJC4eqx1027v",
        "colab_type": "text"
      },
      "source": [
        "##d) Preprocessing Data"
      ]
    },
    {
      "cell_type": "markdown",
      "metadata": {
        "id": "yQKyGeDT1c_2",
        "colab_type": "text"
      },
      "source": [
        "**Difference from previous notebook*\n",
        "*  'name' column -> 'class'\n",
        "*  'lyrics' column -> 'verse'\n"
      ]
    },
    {
      "cell_type": "code",
      "metadata": {
        "id": "hGXYLEwP07bv",
        "colab_type": "code",
        "outputId": "5f47f1ea-67af-4fa0-ac59-6f83879466bd",
        "colab": {
          "base_uri": "https://localhost:8080/",
          "height": 206
        }
      },
      "source": [
        "verses_df = raw_data[['name','title','lyrics']]\n",
        "verses_df = verses_df.rename(columns={'name': 'class'})\n",
        "verses_df.head()"
      ],
      "execution_count": 0,
      "outputs": [
        {
          "output_type": "execute_result",
          "data": {
            "text/html": [
              "<div>\n",
              "<style scoped>\n",
              "    .dataframe tbody tr th:only-of-type {\n",
              "        vertical-align: middle;\n",
              "    }\n",
              "\n",
              "    .dataframe tbody tr th {\n",
              "        vertical-align: top;\n",
              "    }\n",
              "\n",
              "    .dataframe thead th {\n",
              "        text-align: right;\n",
              "    }\n",
              "</style>\n",
              "<table border=\"1\" class=\"dataframe\">\n",
              "  <thead>\n",
              "    <tr style=\"text-align: right;\">\n",
              "      <th></th>\n",
              "      <th>class</th>\n",
              "      <th>title</th>\n",
              "      <th>lyrics</th>\n",
              "    </tr>\n",
              "  </thead>\n",
              "  <tbody>\n",
              "    <tr>\n",
              "      <th>0</th>\n",
              "      <td>The 1975</td>\n",
              "      <td>Somebody Else</td>\n",
              "      <td>[Verse 1]\\nSo I heard you found somebody else\\...</td>\n",
              "    </tr>\n",
              "    <tr>\n",
              "      <th>1</th>\n",
              "      <td>The 1975</td>\n",
              "      <td>Love It If We Made It</td>\n",
              "      <td>[Verse 1]\\nWe're fucking in a car, shooting he...</td>\n",
              "    </tr>\n",
              "    <tr>\n",
              "      <th>2</th>\n",
              "      <td>The 1975</td>\n",
              "      <td>Robbers</td>\n",
              "      <td>[Verse 1]\\nShe had a face straight out a magaz...</td>\n",
              "    </tr>\n",
              "    <tr>\n",
              "      <th>3</th>\n",
              "      <td>The 1975</td>\n",
              "      <td>Sex</td>\n",
              "      <td>And this is how it starts\\nYou take your shoes...</td>\n",
              "    </tr>\n",
              "    <tr>\n",
              "      <th>4</th>\n",
              "      <td>The 1975</td>\n",
              "      <td>Chocolate</td>\n",
              "      <td>[Verse 1]\\nCall it a split cause you know that...</td>\n",
              "    </tr>\n",
              "  </tbody>\n",
              "</table>\n",
              "</div>"
            ],
            "text/plain": [
              "      class  ...                                             lyrics\n",
              "0  The 1975  ...  [Verse 1]\\nSo I heard you found somebody else\\...\n",
              "1  The 1975  ...  [Verse 1]\\nWe're fucking in a car, shooting he...\n",
              "2  The 1975  ...  [Verse 1]\\nShe had a face straight out a magaz...\n",
              "3  The 1975  ...  And this is how it starts\\nYou take your shoes...\n",
              "4  The 1975  ...  [Verse 1]\\nCall it a split cause you know that...\n",
              "\n",
              "[5 rows x 3 columns]"
            ]
          },
          "metadata": {
            "tags": []
          },
          "execution_count": 8
        }
      ]
    },
    {
      "cell_type": "code",
      "metadata": {
        "id": "x0YE-PrT2L8D",
        "colab_type": "code",
        "colab": {}
      },
      "source": [
        "def split_lyrics(lyrics, split_token):\n",
        "    # Split lyrics by verse/chorus. Will be predicting based off a stanza of a song.\n",
        "    verses = re.split(split_token, lyrics) \n",
        "    # verses = [re.sub(\"\\n\", \" \", v) for v in verses]\n",
        "\n",
        "    return verses\n",
        "\n",
        "def break_lyrics(dataframe, split_on):\n",
        "    #\\n\\n is to split between verses, if splitting each line, need to remove artifacts\n",
        "    new_collection = []\n",
        "    for ind, row in dataframe.iterrows():\n",
        "        splits = split_lyrics(row['lyrics'], split_on)\n",
        "\n",
        "        for split in splits:\n",
        "            df_template = {}\n",
        "            df_template['class'] = row['class']\n",
        "            df_template['title'] = row['title']\n",
        "            df_template['verse'] = split\n",
        "\n",
        "            new_collection.append(df_template)  \n",
        "        \n",
        "    return pd.DataFrame(new_collection)\n"
      ],
      "execution_count": 0,
      "outputs": []
    },
    {
      "cell_type": "code",
      "metadata": {
        "id": "wGc5PWdc2Hwj",
        "colab_type": "code",
        "colab": {}
      },
      "source": [
        "verses_df = break_lyrics(verses_df, re.compile(r\"\\[.+?\\]\"))\n",
        "verses_df = verses_df.sample(frac=1)\n",
        "\n",
        "verses_df['verse'].replace('', np.nan, inplace=True)\n",
        "verses_df.dropna(axis=0, inplace=True)\n",
        "\n",
        "split = int(len(verses_df)*0.9)\n",
        "\n",
        "\n",
        "verses_test_df = verses_df.iloc[split:] \n",
        "verses_df = verses_df.iloc[:split]"
      ],
      "execution_count": 0,
      "outputs": []
    },
    {
      "cell_type": "code",
      "metadata": {
        "id": "4kxDdobD2y8d",
        "colab_type": "code",
        "outputId": "daa23708-9b5a-4534-9e1b-25074600ac74",
        "colab": {
          "base_uri": "https://localhost:8080/",
          "height": 363
        }
      },
      "source": [
        "verses = verses_df['verse'].values\n",
        "labels = verses_df['class'].values\n",
        "titles = verses_df['title'].values\n",
        "\n",
        "test_verses = verses_test_df['verse'].values\n",
        "test_labels = verses_test_df['class'].values\n",
        "test_titles = verses_test_df['title'].values\n",
        "\n",
        "verses_test_df.head(n=10)"
      ],
      "execution_count": 0,
      "outputs": [
        {
          "output_type": "execute_result",
          "data": {
            "text/html": [
              "<div>\n",
              "<style scoped>\n",
              "    .dataframe tbody tr th:only-of-type {\n",
              "        vertical-align: middle;\n",
              "    }\n",
              "\n",
              "    .dataframe tbody tr th {\n",
              "        vertical-align: top;\n",
              "    }\n",
              "\n",
              "    .dataframe thead th {\n",
              "        text-align: right;\n",
              "    }\n",
              "</style>\n",
              "<table border=\"1\" class=\"dataframe\">\n",
              "  <thead>\n",
              "    <tr style=\"text-align: right;\">\n",
              "      <th></th>\n",
              "      <th>class</th>\n",
              "      <th>title</th>\n",
              "      <th>verse</th>\n",
              "    </tr>\n",
              "  </thead>\n",
              "  <tbody>\n",
              "    <tr>\n",
              "      <th>1286</th>\n",
              "      <td>J. Cole</td>\n",
              "      <td>Deja Vu</td>\n",
              "      <td>\\nSometimes you worry 'bout the things he can ...</td>\n",
              "    </tr>\n",
              "    <tr>\n",
              "      <th>4389</th>\n",
              "      <td>Red Hot Chili Peppers</td>\n",
              "      <td>Right on Time</td>\n",
              "      <td>\\nOne shot all I need\\nI've got rhythm when I ...</td>\n",
              "    </tr>\n",
              "    <tr>\n",
              "      <th>2712</th>\n",
              "      <td>Kanye West</td>\n",
              "      <td>I Wonder</td>\n",
              "      <td>\\nFind your dreams come true\\nAnd I wonder if ...</td>\n",
              "    </tr>\n",
              "    <tr>\n",
              "      <th>512</th>\n",
              "      <td>John Mayer</td>\n",
              "      <td>New Light</td>\n",
              "      <td>\\nI'm the boy in your other phone\\nLighting up...</td>\n",
              "    </tr>\n",
              "    <tr>\n",
              "      <th>2919</th>\n",
              "      <td>Kanye West</td>\n",
              "      <td>Say You Will</td>\n",
              "      <td>\\nMrs. So Fly crash-lands in my room\\nCan't wa...</td>\n",
              "    </tr>\n",
              "    <tr>\n",
              "      <th>2134</th>\n",
              "      <td>Kanye West</td>\n",
              "      <td>Real Friends</td>\n",
              "      <td>\\nReal friends, how many of us?\\nHow many of u...</td>\n",
              "    </tr>\n",
              "    <tr>\n",
              "      <th>1968</th>\n",
              "      <td>J. Cole</td>\n",
              "      <td>Losing My Balance</td>\n",
              "      <td>\\nI got a thing for this little mama\\nShe do i...</td>\n",
              "    </tr>\n",
              "    <tr>\n",
              "      <th>891</th>\n",
              "      <td>John Mayer</td>\n",
              "      <td>Something Like Olivia</td>\n",
              "      <td>\\nWell, Olivia is taken\\nBut a look like hers ...</td>\n",
              "    </tr>\n",
              "    <tr>\n",
              "      <th>436</th>\n",
              "      <td>The 1975</td>\n",
              "      <td>Jesus Christ 2005 God Bless America</td>\n",
              "      <td>\\nFortunately I believe, lucky me\\nI'm searchi...</td>\n",
              "    </tr>\n",
              "    <tr>\n",
              "      <th>2541</th>\n",
              "      <td>Kanye West</td>\n",
              "      <td>Last Call</td>\n",
              "      <td>\\n\\n\"I ain't gonna front, it's kinda hot.\"\\n\\n</td>\n",
              "    </tr>\n",
              "  </tbody>\n",
              "</table>\n",
              "</div>"
            ],
            "text/plain": [
              "                      class  ...                                              verse\n",
              "1286                J. Cole  ...  \\nSometimes you worry 'bout the things he can ...\n",
              "4389  Red Hot Chili Peppers  ...  \\nOne shot all I need\\nI've got rhythm when I ...\n",
              "2712             Kanye West  ...  \\nFind your dreams come true\\nAnd I wonder if ...\n",
              "512              John Mayer  ...  \\nI'm the boy in your other phone\\nLighting up...\n",
              "2919             Kanye West  ...  \\nMrs. So Fly crash-lands in my room\\nCan't wa...\n",
              "2134             Kanye West  ...  \\nReal friends, how many of us?\\nHow many of u...\n",
              "1968                J. Cole  ...  \\nI got a thing for this little mama\\nShe do i...\n",
              "891              John Mayer  ...  \\nWell, Olivia is taken\\nBut a look like hers ...\n",
              "436                The 1975  ...  \\nFortunately I believe, lucky me\\nI'm searchi...\n",
              "2541             Kanye West  ...     \\n\\n\"I ain't gonna front, it's kinda hot.\"\\n\\n\n",
              "\n",
              "[10 rows x 3 columns]"
            ]
          },
          "metadata": {
            "tags": []
          },
          "execution_count": 11
        }
      ]
    },
    {
      "cell_type": "code",
      "metadata": {
        "id": "DoWKMhtP0QDm",
        "colab_type": "code",
        "outputId": "cc02de30-e907-4c34-b68d-a525b414cc59",
        "colab": {
          "base_uri": "https://localhost:8080/",
          "height": 54
        }
      },
      "source": [
        "print('Test data: ',len(verses_test_df))\n",
        "print('Train data: ',len(verses_df))"
      ],
      "execution_count": 0,
      "outputs": [
        {
          "output_type": "stream",
          "text": [
            "Test data:  474\n",
            "Train data:  4266\n"
          ],
          "name": "stdout"
        }
      ]
    },
    {
      "cell_type": "markdown",
      "metadata": {
        "id": "pRQypXiBECk-",
        "colab_type": "text"
      },
      "source": [
        "##e) Reporting Functions"
      ]
    },
    {
      "cell_type": "code",
      "metadata": {
        "id": "EZ6A1JL6EFG0",
        "colab_type": "code",
        "colab": {}
      },
      "source": [
        "def generate_cm(true, pred, classes, normalize='false', title='', size=(14,12)):\n",
        "    cm = confusion_matrix(true, pred, labels=classes, normalize=normalize)\n",
        "\n",
        "    cm_df = pd.DataFrame(cm, index=classes, columns=classes)\n",
        "\n",
        "    fig, ax = plt.subplots(nrows=1, ncols=1)\n",
        "    fig.set_size_inches(size)\n",
        "    ax.xaxis.tick_top()\n",
        "    sn.heatmap(cm_df, annot=True, ax=ax)\n",
        "    ax.set_title(title)\n",
        "    ax.set_ylabel('True Label')\n",
        "    ax.set_xlabel('Predicted Label')\n",
        "\n",
        "def classifier_report(true, predictions, id=None):\n",
        "    true_binar = preprocessing.label_binarize(true, classes=pd.Series(true).unique())\n",
        "    pred_binar = preprocessing.label_binarize(predictions, classes=pd.Series(true).unique())\n",
        "    results = {\n",
        "        'accuracy':round(accuracy_score(true, predictions), 3),\n",
        "        'precision': round(average_precision_score(true_binar, pred_binar, average='macro'), 3),\n",
        "        'recall':round(recall_score(true, predictions, average='macro'), 3),\n",
        "        'f1': round(f1_score(true, predictions, average='macro'), 3)\n",
        "    }\n",
        "    if id:\n",
        "        results['id'] = id,\n",
        "    return results\n"
      ],
      "execution_count": 0,
      "outputs": []
    },
    {
      "cell_type": "markdown",
      "metadata": {
        "id": "LBtp7hOi4lN_",
        "colab_type": "text"
      },
      "source": [
        "#2: Tokenization"
      ]
    },
    {
      "cell_type": "markdown",
      "metadata": {
        "id": "X-BPrWEE5UjF",
        "colab_type": "text"
      },
      "source": [
        "##a) BERT Tokenizer"
      ]
    },
    {
      "cell_type": "code",
      "metadata": {
        "id": "Q4lIuOcI5W6V",
        "colab_type": "code",
        "outputId": "25d06c8e-9849-4f89-97e2-f9547cddb13f",
        "colab": {
          "base_uri": "https://localhost:8080/",
          "referenced_widgets": [
            "4c3603bc45914548ab82f40d58b71e81",
            "33165024159b498a98f82ebfd7999e29",
            "6bd3a5b6a5004dd693b02e36bb90bd65",
            "487d32cbfebc41b381300973892ef880",
            "d759cbf63cea44cb828bea2adf3af81f",
            "6f754d612b534f049632b03337007aa7",
            "9f834e8628ec4020a8f0b2906580028b",
            "cdd54501d4fb43c98392a979603e1ef5"
          ]
        }
      },
      "source": [
        "print('Loading BERT tokenizer...')\n",
        "# tokenizer = BertTokenizer.from_pretrained('bert-base-uncased', do_lower_case=True)\n",
        "tokenizer = BertTokenizer.from_pretrained('bert-base-cased', do_lower_case=False)"
      ],
      "execution_count": 0,
      "outputs": [
        {
          "output_type": "stream",
          "text": [
            "Loading BERT tokenizer...\n"
          ],
          "name": "stdout"
        },
        {
          "output_type": "display_data",
          "data": {
            "application/vnd.jupyter.widget-view+json": {
              "model_id": "4c3603bc45914548ab82f40d58b71e81",
              "version_minor": 0,
              "version_major": 2
            },
            "text/plain": [
              "HBox(children=(IntProgress(value=0, description='Downloading', max=213450, style=ProgressStyle(description_wid…"
            ]
          },
          "metadata": {
            "tags": []
          }
        },
        {
          "output_type": "stream",
          "text": [
            "\n"
          ],
          "name": "stdout"
        }
      ]
    },
    {
      "cell_type": "code",
      "metadata": {
        "id": "Y0pArsTS5cgu",
        "colab_type": "code",
        "outputId": "ac9fba2d-eb7b-4c71-b35b-0f50829bbb48",
        "colab": {
          "base_uri": "https://localhost:8080/"
        }
      },
      "source": [
        "# Testing the tokenizer:\n",
        "\n",
        "# Print the original verse.\n",
        "i = 727\n",
        "print('Track: ', titles[i], ' by ', labels[i], ' \\nOriginal: ', verses[i])\n",
        "\n",
        "# Print the verse split into tokens.\n",
        "print('Tokenized: ', tokenizer.tokenize(verses[i]))\n",
        "\n",
        "# Print the verse mapped to token ids.\n",
        "print('Token IDs: ', tokenizer.convert_tokens_to_ids(tokenizer.tokenize(verses[i])))"
      ],
      "execution_count": 0,
      "outputs": [
        {
          "output_type": "stream",
          "text": [
            "Track:  Shake It Off  by  Taylor Swift  \n",
            "Original:  \n",
            "I stay out too late\n",
            "Got nothing in my brain\n",
            "That's what people say, mm, mm\n",
            "That's what people say, mm, mm\n",
            "I go on too many dates\n",
            "But I can't make them stay\n",
            "At least that's what people say, mm, mm\n",
            "That's what people say, mm, mm\n",
            "\n",
            "\n",
            "Tokenized:  ['I', 'stay', 'out', 'too', 'late', 'Got', 'nothing', 'in', 'my', 'brain', 'That', \"'\", 's', 'what', 'people', 'say', ',', 'mm', ',', 'mm', 'That', \"'\", 's', 'what', 'people', 'say', ',', 'mm', ',', 'mm', 'I', 'go', 'on', 'too', 'many', 'dates', 'But', 'I', 'can', \"'\", 't', 'make', 'them', 'stay', 'At', 'least', 'that', \"'\", 's', 'what', 'people', 'say', ',', 'mm', ',', 'mm', 'That', \"'\", 's', 'what', 'people', 'say', ',', 'mm', ',', 'mm']\n",
            "Token IDs:  [146, 2215, 1149, 1315, 1523, 7348, 1720, 1107, 1139, 3575, 1337, 112, 188, 1184, 1234, 1474, 117, 2608, 117, 2608, 1337, 112, 188, 1184, 1234, 1474, 117, 2608, 117, 2608, 146, 1301, 1113, 1315, 1242, 4595, 1252, 146, 1169, 112, 189, 1294, 1172, 2215, 1335, 1655, 1115, 112, 188, 1184, 1234, 1474, 117, 2608, 117, 2608, 1337, 112, 188, 1184, 1234, 1474, 117, 2608, 117, 2608]\n"
          ],
          "name": "stdout"
        }
      ]
    },
    {
      "cell_type": "markdown",
      "metadata": {
        "id": "ebIBiGfn6mM8",
        "colab_type": "text"
      },
      "source": [
        "##b) Verses to ids"
      ]
    },
    {
      "cell_type": "code",
      "metadata": {
        "id": "3iz76NuD6ovS",
        "colab_type": "code",
        "outputId": "2c948f63-4f18-400b-f87a-2f07ef7ac243",
        "colab": {
          "base_uri": "https://localhost:8080/",
          "height": 551
        }
      },
      "source": [
        "# Tokenize all of the sentences and map the tokens to thier word IDs.\n",
        "input_ids = []\n",
        "max_tokens = 0\n",
        "avg_tkns = 0\n",
        "# For every verse...\n",
        "for verse in verses:\n",
        "    # `encode` will:\n",
        "    #   (1) Tokenize the sentence.\n",
        "    #   (2) Prepend the `[CLS]` token to the start.\n",
        "    #   (3) Append the `[SEP]` token to the end.\n",
        "    #   (4) Map tokens to their IDs.\n",
        "    tkns = len(tokenizer.tokenize(verse))\n",
        "    avg_tkns += tkns\n",
        "    max_tokens = max(max_tokens, tkns)\n",
        "    encoded_verse = tokenizer.encode(\n",
        "                        verse,                      # Sentence to encode.\n",
        "                        add_special_tokens = True, # Add '[CLS]' and '[SEP]'\n",
        "\n",
        "                        # This function also supports truncation and conversion\n",
        "                        # to pytorch tensors, but we need to do padding, so we\n",
        "                        # can't use these features :( .\n",
        "                        #max_length = 128,          # Truncate all sentences.\n",
        "                        #return_tensors = 'pt',     # Return pytorch tensors.\n",
        "                   )\n",
        "    \n",
        "    # Add the encoded sentence to the list.\n",
        "    input_ids.append(encoded_verse)\n",
        "    \n",
        "avg_tkns = avg_tkns/len(verses)\n",
        "# Print sentence 0, now as a list of IDs.\n",
        "print('Original: ', verses[0])\n",
        "print('Token IDs:', input_ids[0])\n",
        "print('Max tokens in verse: ', max_tokens)\n",
        "print('Avg tokens in verse: ', avg_tkns)"
      ],
      "execution_count": 0,
      "outputs": [
        {
          "output_type": "stream",
          "text": [
            "Token indices sequence length is longer than the specified maximum sequence length for this model (577 > 512). Running this sequence through the model will result in indexing errors\n",
            "Token indices sequence length is longer than the specified maximum sequence length for this model (579 > 512). Running this sequence through the model will result in indexing errors\n",
            "Token indices sequence length is longer than the specified maximum sequence length for this model (682 > 512). Running this sequence through the model will result in indexing errors\n",
            "Token indices sequence length is longer than the specified maximum sequence length for this model (622 > 512). Running this sequence through the model will result in indexing errors\n",
            "Token indices sequence length is longer than the specified maximum sequence length for this model (759 > 512). Running this sequence through the model will result in indexing errors\n",
            "Token indices sequence length is longer than the specified maximum sequence length for this model (674 > 512). Running this sequence through the model will result in indexing errors\n",
            "Token indices sequence length is longer than the specified maximum sequence length for this model (858 > 512). Running this sequence through the model will result in indexing errors\n",
            "Token indices sequence length is longer than the specified maximum sequence length for this model (797 > 512). Running this sequence through the model will result in indexing errors\n",
            "Token indices sequence length is longer than the specified maximum sequence length for this model (908 > 512). Running this sequence through the model will result in indexing errors\n",
            "Token indices sequence length is longer than the specified maximum sequence length for this model (515 > 512). Running this sequence through the model will result in indexing errors\n",
            "Token indices sequence length is longer than the specified maximum sequence length for this model (3383 > 512). Running this sequence through the model will result in indexing errors\n",
            "Token indices sequence length is longer than the specified maximum sequence length for this model (522 > 512). Running this sequence through the model will result in indexing errors\n",
            "Token indices sequence length is longer than the specified maximum sequence length for this model (643 > 512). Running this sequence through the model will result in indexing errors\n",
            "Token indices sequence length is longer than the specified maximum sequence length for this model (639 > 512). Running this sequence through the model will result in indexing errors\n",
            "Token indices sequence length is longer than the specified maximum sequence length for this model (543 > 512). Running this sequence through the model will result in indexing errors\n",
            "Token indices sequence length is longer than the specified maximum sequence length for this model (643 > 512). Running this sequence through the model will result in indexing errors\n",
            "Token indices sequence length is longer than the specified maximum sequence length for this model (875 > 512). Running this sequence through the model will result in indexing errors\n"
          ],
          "name": "stderr"
        },
        {
          "output_type": "stream",
          "text": [
            "Original:  \n",
            "Can I go where you go?\n",
            "Can we always be this close?\n",
            "Forever and ever, ah\n",
            "Take me out, and take me home (Forever and ever)\n",
            "You're my, my, my, my\n",
            "Oh, you're my, my, my, my\n",
            "Darling, you're my, my, my, my lover\n",
            "Token IDs: [101, 2825, 146, 1301, 1187, 1128, 1301, 136, 2825, 1195, 1579, 1129, 1142, 1601, 136, 11694, 1105, 1518, 117, 18257, 5055, 1143, 1149, 117, 1105, 1321, 1143, 1313, 113, 11694, 1105, 1518, 114, 1192, 112, 1231, 1139, 117, 1139, 117, 1139, 117, 1139, 2048, 117, 1128, 112, 1231, 1139, 117, 1139, 117, 1139, 117, 1139, 12777, 117, 1128, 112, 1231, 1139, 117, 1139, 117, 1139, 117, 1139, 7559, 102]\n",
            "Max tokens in verse:  3383\n",
            "Avg tokens in verse:  74.16385372714487\n"
          ],
          "name": "stdout"
        }
      ]
    },
    {
      "cell_type": "markdown",
      "metadata": {
        "id": "RUo88ZP28z4k",
        "colab_type": "text"
      },
      "source": [
        "##c) Padding, Truncating"
      ]
    },
    {
      "cell_type": "code",
      "metadata": {
        "id": "VFsHiDGp9TCr",
        "colab_type": "code",
        "outputId": "9d991c7f-b90a-4888-8a4b-3857094d0304",
        "colab": {
          "base_uri": "https://localhost:8080/"
        }
      },
      "source": [
        "MAX_LEN = 128 # Adjusted from 64, to 128 because of average verse lenght being greater than 64\n",
        "\n",
        "print('\\nPadding/truncating all verses to %d values...' % MAX_LEN)\n",
        "\n",
        "print('\\nPadding token: \"{:}\", ID: {:}'.format(tokenizer.pad_token, tokenizer.pad_token_id))\n",
        "\n",
        "# Pad our input tokens with value 0.\n",
        "# \"post\" indicates that we want to pad and truncate at the end of the sequence,\n",
        "# as opposed to the beginning.\n",
        "input_ids = pad_sequences(input_ids, maxlen=MAX_LEN, dtype=\"long\", \n",
        "                          value=0, truncating=\"post\", padding=\"post\")\n",
        "\n",
        "print('\\nDone.')"
      ],
      "execution_count": 0,
      "outputs": [
        {
          "output_type": "stream",
          "text": [
            "\n",
            "Padding/truncating all verses to 128 values...\n",
            "\n",
            "Padding token: \"[PAD]\", ID: 0\n",
            "\n",
            "Done.\n"
          ],
          "name": "stdout"
        }
      ]
    },
    {
      "cell_type": "markdown",
      "metadata": {
        "id": "nmkDP6zk-hiD",
        "colab_type": "text"
      },
      "source": [
        "##d) Applying masks"
      ]
    },
    {
      "cell_type": "code",
      "metadata": {
        "id": "pPsIoYCx-jqx",
        "colab_type": "code",
        "colab": {}
      },
      "source": [
        "# Create attention masks\n",
        "attention_masks = []\n",
        "\n",
        "# For each sentence...\n",
        "for verse in input_ids:\n",
        "    \n",
        "    # Create the attention mask.\n",
        "    #   - If a token ID is 0, then it's padding, set the mask to 0.\n",
        "    #   - If a token ID is > 0, then it's a real token, set the mask to 1.\n",
        "    att_mask = [int(token_id > 0) for token_id in verse]\n",
        "    \n",
        "    # Store the attention mask for this sentence.\n",
        "    attention_masks.append(att_mask)"
      ],
      "execution_count": 0,
      "outputs": []
    },
    {
      "cell_type": "markdown",
      "metadata": {
        "id": "bMw3K_e9-wwI",
        "colab_type": "text"
      },
      "source": [
        "##e) Split data to Training, Test"
      ]
    },
    {
      "cell_type": "code",
      "metadata": {
        "id": "IwPdpOpm-1ds",
        "colab_type": "code",
        "colab": {}
      },
      "source": [
        "# Use 90% for training and 10% for validation.\n",
        "# This works since it is transfer learning, and data is limited\n",
        "\n",
        "label_conversion = {\n",
        "    'The 1975':0, \n",
        "    'John Mayer':1, \n",
        "    'J. Cole':2, \n",
        "    'Kanye West':3, \n",
        "    'Modest Mouse':4, \n",
        "    'Red Hot Chili Peppers':5, \n",
        "    \"Taylor Swift\":6\n",
        "}\n",
        "\n",
        "labels_binarized = [label_conversion[a] for a in labels]\n",
        "\n",
        "train_inputs, validation_inputs, train_labels, validation_labels = train_test_split(input_ids, labels_binarized, \n",
        "                                                            random_state=2020, test_size=0.1)\n",
        "# Do the same for the masks.\n",
        "train_masks, validation_masks, _, _ = train_test_split(attention_masks, labels_binarized,\n",
        "                                             random_state=2020, test_size=0.1)"
      ],
      "execution_count": 0,
      "outputs": []
    },
    {
      "cell_type": "code",
      "metadata": {
        "id": "r3Dt8E3O_PMm",
        "colab_type": "code",
        "colab": {}
      },
      "source": [
        "# Convert all inputs and labels into torch tensors, the required datatype \n",
        "# for our model.\n",
        "\n",
        "train_inputs = torch.tensor(train_inputs)\n",
        "validation_inputs = torch.tensor(validation_inputs)\n",
        "\n",
        "train_labels = torch.tensor(train_labels)\n",
        "validation_labels = torch.tensor(validation_labels)\n",
        "\n",
        "train_masks = torch.tensor(train_masks)\n",
        "validation_masks = torch.tensor(validation_masks)"
      ],
      "execution_count": 0,
      "outputs": []
    },
    {
      "cell_type": "code",
      "metadata": {
        "id": "R4eJ6_MHCgz-",
        "colab_type": "code",
        "colab": {}
      },
      "source": [
        "from torch.utils.data import TensorDataset, DataLoader, RandomSampler, SequentialSampler\n",
        "\n",
        "# The DataLoader needs to know our batch size for training, so we specify it \n",
        "# here.\n",
        "# For fine-tuning BERT on a specific task, the authors recommend a batch size of\n",
        "# 16 or 32.\n",
        "\n",
        "batch_size = 16\n",
        "\n",
        "# Create the DataLoader for our training set.\n",
        "train_data = TensorDataset(train_inputs, train_masks, train_labels)\n",
        "train_sampler = RandomSampler(train_data)\n",
        "train_dataloader = DataLoader(train_data, sampler=train_sampler, batch_size=batch_size)\n",
        "\n",
        "# Create the DataLoader for our validation set.\n",
        "validation_data = TensorDataset(validation_inputs, validation_masks, validation_labels)\n",
        "validation_sampler = SequentialSampler(validation_data)\n",
        "validation_dataloader = DataLoader(validation_data, sampler=validation_sampler, batch_size=batch_size)\n"
      ],
      "execution_count": 0,
      "outputs": []
    },
    {
      "cell_type": "markdown",
      "metadata": {
        "id": "RYYYyN2_Bwu0",
        "colab_type": "text"
      },
      "source": [
        "#3: Sequence Classification with BERT"
      ]
    },
    {
      "cell_type": "markdown",
      "metadata": {
        "id": "0vnc8LJMmo0G",
        "colab_type": "text"
      },
      "source": [
        "##a) Prep for training loop"
      ]
    },
    {
      "cell_type": "code",
      "metadata": {
        "id": "dM1J6YX-Ahm1",
        "colab_type": "code",
        "outputId": "b7494efb-4e53-46c2-ff46-91042c8240f9",
        "colab": {
          "base_uri": "https://localhost:8080/",
          "height": 1000,
          "referenced_widgets": [
            "afea82fb3bc04cbeb0d1d3cc5675aa16",
            "485c29b18f184ef68958f319a701f973",
            "8652cf7d0a734ebbaaaaeadcf99bb11c",
            "bbc83122396049208ff4c355252e6bb4",
            "dd4bb056ed7c42008a2431d4bfd36e74",
            "0a34b4f253e24c50b8689baef9f62015",
            "dcf942781fa04127820a6475e9e21611",
            "9da7e70eef634481b2b1cb8090fc3abc",
            "68d78e555cf648d89e96d1d13e85c92a",
            "624047f483294ee69ef8efda1e970b12",
            "2c90bb1463fb411b85cdb4cd2400f937",
            "385a2a19d92041b7b42c94f7d8771434",
            "7f865e4c2eff4ad4a5f6e29b218982f2",
            "0a2819f8ce7c47dd94e0443ddf534066",
            "e7447d688a63494bbf0183f4f6ef6965",
            "2bc1340aabe2448891745d13ee0f6cfa"
          ]
        }
      },
      "source": [
        "from transformers import BertForSequenceClassification, AdamW, BertConfig\n",
        "\n",
        "# Load BertForSequenceClassification, the pretrained BERT model with a single \n",
        "# linear classification layer on top. \n",
        "model = BertForSequenceClassification.from_pretrained(\n",
        "    \"bert-base-cased\", # Use the 12-layer BERT model, with an uncased vocab.\n",
        "    num_labels = len(artists), # The number of output labels--2 for binary classification.\n",
        "                    # You can increase this for multi-class tasks.   \n",
        "    output_attentions = False, # Whether the model returns attentions weights.\n",
        "    output_hidden_states = False, # Whether the model returns all hidden-states.\n",
        ")\n",
        "\n",
        "# Tell pytorch to run this model on the GPU.\n",
        "model.cuda()"
      ],
      "execution_count": 0,
      "outputs": [
        {
          "output_type": "display_data",
          "data": {
            "application/vnd.jupyter.widget-view+json": {
              "model_id": "afea82fb3bc04cbeb0d1d3cc5675aa16",
              "version_minor": 0,
              "version_major": 2
            },
            "text/plain": [
              "HBox(children=(IntProgress(value=0, description='Downloading', max=361, style=ProgressStyle(description_width=…"
            ]
          },
          "metadata": {
            "tags": []
          }
        },
        {
          "output_type": "stream",
          "text": [
            "\n"
          ],
          "name": "stdout"
        },
        {
          "output_type": "display_data",
          "data": {
            "application/vnd.jupyter.widget-view+json": {
              "model_id": "68d78e555cf648d89e96d1d13e85c92a",
              "version_minor": 0,
              "version_major": 2
            },
            "text/plain": [
              "HBox(children=(IntProgress(value=0, description='Downloading', max=435779157, style=ProgressStyle(description_…"
            ]
          },
          "metadata": {
            "tags": []
          }
        },
        {
          "output_type": "stream",
          "text": [
            "\n"
          ],
          "name": "stdout"
        },
        {
          "output_type": "execute_result",
          "data": {
            "text/plain": [
              "BertForSequenceClassification(\n",
              "  (bert): BertModel(\n",
              "    (embeddings): BertEmbeddings(\n",
              "      (word_embeddings): Embedding(28996, 768, padding_idx=0)\n",
              "      (position_embeddings): Embedding(512, 768)\n",
              "      (token_type_embeddings): Embedding(2, 768)\n",
              "      (LayerNorm): LayerNorm((768,), eps=1e-12, elementwise_affine=True)\n",
              "      (dropout): Dropout(p=0.1, inplace=False)\n",
              "    )\n",
              "    (encoder): BertEncoder(\n",
              "      (layer): ModuleList(\n",
              "        (0): BertLayer(\n",
              "          (attention): BertAttention(\n",
              "            (self): BertSelfAttention(\n",
              "              (query): Linear(in_features=768, out_features=768, bias=True)\n",
              "              (key): Linear(in_features=768, out_features=768, bias=True)\n",
              "              (value): Linear(in_features=768, out_features=768, bias=True)\n",
              "              (dropout): Dropout(p=0.1, inplace=False)\n",
              "            )\n",
              "            (output): BertSelfOutput(\n",
              "              (dense): Linear(in_features=768, out_features=768, bias=True)\n",
              "              (LayerNorm): LayerNorm((768,), eps=1e-12, elementwise_affine=True)\n",
              "              (dropout): Dropout(p=0.1, inplace=False)\n",
              "            )\n",
              "          )\n",
              "          (intermediate): BertIntermediate(\n",
              "            (dense): Linear(in_features=768, out_features=3072, bias=True)\n",
              "          )\n",
              "          (output): BertOutput(\n",
              "            (dense): Linear(in_features=3072, out_features=768, bias=True)\n",
              "            (LayerNorm): LayerNorm((768,), eps=1e-12, elementwise_affine=True)\n",
              "            (dropout): Dropout(p=0.1, inplace=False)\n",
              "          )\n",
              "        )\n",
              "        (1): BertLayer(\n",
              "          (attention): BertAttention(\n",
              "            (self): BertSelfAttention(\n",
              "              (query): Linear(in_features=768, out_features=768, bias=True)\n",
              "              (key): Linear(in_features=768, out_features=768, bias=True)\n",
              "              (value): Linear(in_features=768, out_features=768, bias=True)\n",
              "              (dropout): Dropout(p=0.1, inplace=False)\n",
              "            )\n",
              "            (output): BertSelfOutput(\n",
              "              (dense): Linear(in_features=768, out_features=768, bias=True)\n",
              "              (LayerNorm): LayerNorm((768,), eps=1e-12, elementwise_affine=True)\n",
              "              (dropout): Dropout(p=0.1, inplace=False)\n",
              "            )\n",
              "          )\n",
              "          (intermediate): BertIntermediate(\n",
              "            (dense): Linear(in_features=768, out_features=3072, bias=True)\n",
              "          )\n",
              "          (output): BertOutput(\n",
              "            (dense): Linear(in_features=3072, out_features=768, bias=True)\n",
              "            (LayerNorm): LayerNorm((768,), eps=1e-12, elementwise_affine=True)\n",
              "            (dropout): Dropout(p=0.1, inplace=False)\n",
              "          )\n",
              "        )\n",
              "        (2): BertLayer(\n",
              "          (attention): BertAttention(\n",
              "            (self): BertSelfAttention(\n",
              "              (query): Linear(in_features=768, out_features=768, bias=True)\n",
              "              (key): Linear(in_features=768, out_features=768, bias=True)\n",
              "              (value): Linear(in_features=768, out_features=768, bias=True)\n",
              "              (dropout): Dropout(p=0.1, inplace=False)\n",
              "            )\n",
              "            (output): BertSelfOutput(\n",
              "              (dense): Linear(in_features=768, out_features=768, bias=True)\n",
              "              (LayerNorm): LayerNorm((768,), eps=1e-12, elementwise_affine=True)\n",
              "              (dropout): Dropout(p=0.1, inplace=False)\n",
              "            )\n",
              "          )\n",
              "          (intermediate): BertIntermediate(\n",
              "            (dense): Linear(in_features=768, out_features=3072, bias=True)\n",
              "          )\n",
              "          (output): BertOutput(\n",
              "            (dense): Linear(in_features=3072, out_features=768, bias=True)\n",
              "            (LayerNorm): LayerNorm((768,), eps=1e-12, elementwise_affine=True)\n",
              "            (dropout): Dropout(p=0.1, inplace=False)\n",
              "          )\n",
              "        )\n",
              "        (3): BertLayer(\n",
              "          (attention): BertAttention(\n",
              "            (self): BertSelfAttention(\n",
              "              (query): Linear(in_features=768, out_features=768, bias=True)\n",
              "              (key): Linear(in_features=768, out_features=768, bias=True)\n",
              "              (value): Linear(in_features=768, out_features=768, bias=True)\n",
              "              (dropout): Dropout(p=0.1, inplace=False)\n",
              "            )\n",
              "            (output): BertSelfOutput(\n",
              "              (dense): Linear(in_features=768, out_features=768, bias=True)\n",
              "              (LayerNorm): LayerNorm((768,), eps=1e-12, elementwise_affine=True)\n",
              "              (dropout): Dropout(p=0.1, inplace=False)\n",
              "            )\n",
              "          )\n",
              "          (intermediate): BertIntermediate(\n",
              "            (dense): Linear(in_features=768, out_features=3072, bias=True)\n",
              "          )\n",
              "          (output): BertOutput(\n",
              "            (dense): Linear(in_features=3072, out_features=768, bias=True)\n",
              "            (LayerNorm): LayerNorm((768,), eps=1e-12, elementwise_affine=True)\n",
              "            (dropout): Dropout(p=0.1, inplace=False)\n",
              "          )\n",
              "        )\n",
              "        (4): BertLayer(\n",
              "          (attention): BertAttention(\n",
              "            (self): BertSelfAttention(\n",
              "              (query): Linear(in_features=768, out_features=768, bias=True)\n",
              "              (key): Linear(in_features=768, out_features=768, bias=True)\n",
              "              (value): Linear(in_features=768, out_features=768, bias=True)\n",
              "              (dropout): Dropout(p=0.1, inplace=False)\n",
              "            )\n",
              "            (output): BertSelfOutput(\n",
              "              (dense): Linear(in_features=768, out_features=768, bias=True)\n",
              "              (LayerNorm): LayerNorm((768,), eps=1e-12, elementwise_affine=True)\n",
              "              (dropout): Dropout(p=0.1, inplace=False)\n",
              "            )\n",
              "          )\n",
              "          (intermediate): BertIntermediate(\n",
              "            (dense): Linear(in_features=768, out_features=3072, bias=True)\n",
              "          )\n",
              "          (output): BertOutput(\n",
              "            (dense): Linear(in_features=3072, out_features=768, bias=True)\n",
              "            (LayerNorm): LayerNorm((768,), eps=1e-12, elementwise_affine=True)\n",
              "            (dropout): Dropout(p=0.1, inplace=False)\n",
              "          )\n",
              "        )\n",
              "        (5): BertLayer(\n",
              "          (attention): BertAttention(\n",
              "            (self): BertSelfAttention(\n",
              "              (query): Linear(in_features=768, out_features=768, bias=True)\n",
              "              (key): Linear(in_features=768, out_features=768, bias=True)\n",
              "              (value): Linear(in_features=768, out_features=768, bias=True)\n",
              "              (dropout): Dropout(p=0.1, inplace=False)\n",
              "            )\n",
              "            (output): BertSelfOutput(\n",
              "              (dense): Linear(in_features=768, out_features=768, bias=True)\n",
              "              (LayerNorm): LayerNorm((768,), eps=1e-12, elementwise_affine=True)\n",
              "              (dropout): Dropout(p=0.1, inplace=False)\n",
              "            )\n",
              "          )\n",
              "          (intermediate): BertIntermediate(\n",
              "            (dense): Linear(in_features=768, out_features=3072, bias=True)\n",
              "          )\n",
              "          (output): BertOutput(\n",
              "            (dense): Linear(in_features=3072, out_features=768, bias=True)\n",
              "            (LayerNorm): LayerNorm((768,), eps=1e-12, elementwise_affine=True)\n",
              "            (dropout): Dropout(p=0.1, inplace=False)\n",
              "          )\n",
              "        )\n",
              "        (6): BertLayer(\n",
              "          (attention): BertAttention(\n",
              "            (self): BertSelfAttention(\n",
              "              (query): Linear(in_features=768, out_features=768, bias=True)\n",
              "              (key): Linear(in_features=768, out_features=768, bias=True)\n",
              "              (value): Linear(in_features=768, out_features=768, bias=True)\n",
              "              (dropout): Dropout(p=0.1, inplace=False)\n",
              "            )\n",
              "            (output): BertSelfOutput(\n",
              "              (dense): Linear(in_features=768, out_features=768, bias=True)\n",
              "              (LayerNorm): LayerNorm((768,), eps=1e-12, elementwise_affine=True)\n",
              "              (dropout): Dropout(p=0.1, inplace=False)\n",
              "            )\n",
              "          )\n",
              "          (intermediate): BertIntermediate(\n",
              "            (dense): Linear(in_features=768, out_features=3072, bias=True)\n",
              "          )\n",
              "          (output): BertOutput(\n",
              "            (dense): Linear(in_features=3072, out_features=768, bias=True)\n",
              "            (LayerNorm): LayerNorm((768,), eps=1e-12, elementwise_affine=True)\n",
              "            (dropout): Dropout(p=0.1, inplace=False)\n",
              "          )\n",
              "        )\n",
              "        (7): BertLayer(\n",
              "          (attention): BertAttention(\n",
              "            (self): BertSelfAttention(\n",
              "              (query): Linear(in_features=768, out_features=768, bias=True)\n",
              "              (key): Linear(in_features=768, out_features=768, bias=True)\n",
              "              (value): Linear(in_features=768, out_features=768, bias=True)\n",
              "              (dropout): Dropout(p=0.1, inplace=False)\n",
              "            )\n",
              "            (output): BertSelfOutput(\n",
              "              (dense): Linear(in_features=768, out_features=768, bias=True)\n",
              "              (LayerNorm): LayerNorm((768,), eps=1e-12, elementwise_affine=True)\n",
              "              (dropout): Dropout(p=0.1, inplace=False)\n",
              "            )\n",
              "          )\n",
              "          (intermediate): BertIntermediate(\n",
              "            (dense): Linear(in_features=768, out_features=3072, bias=True)\n",
              "          )\n",
              "          (output): BertOutput(\n",
              "            (dense): Linear(in_features=3072, out_features=768, bias=True)\n",
              "            (LayerNorm): LayerNorm((768,), eps=1e-12, elementwise_affine=True)\n",
              "            (dropout): Dropout(p=0.1, inplace=False)\n",
              "          )\n",
              "        )\n",
              "        (8): BertLayer(\n",
              "          (attention): BertAttention(\n",
              "            (self): BertSelfAttention(\n",
              "              (query): Linear(in_features=768, out_features=768, bias=True)\n",
              "              (key): Linear(in_features=768, out_features=768, bias=True)\n",
              "              (value): Linear(in_features=768, out_features=768, bias=True)\n",
              "              (dropout): Dropout(p=0.1, inplace=False)\n",
              "            )\n",
              "            (output): BertSelfOutput(\n",
              "              (dense): Linear(in_features=768, out_features=768, bias=True)\n",
              "              (LayerNorm): LayerNorm((768,), eps=1e-12, elementwise_affine=True)\n",
              "              (dropout): Dropout(p=0.1, inplace=False)\n",
              "            )\n",
              "          )\n",
              "          (intermediate): BertIntermediate(\n",
              "            (dense): Linear(in_features=768, out_features=3072, bias=True)\n",
              "          )\n",
              "          (output): BertOutput(\n",
              "            (dense): Linear(in_features=3072, out_features=768, bias=True)\n",
              "            (LayerNorm): LayerNorm((768,), eps=1e-12, elementwise_affine=True)\n",
              "            (dropout): Dropout(p=0.1, inplace=False)\n",
              "          )\n",
              "        )\n",
              "        (9): BertLayer(\n",
              "          (attention): BertAttention(\n",
              "            (self): BertSelfAttention(\n",
              "              (query): Linear(in_features=768, out_features=768, bias=True)\n",
              "              (key): Linear(in_features=768, out_features=768, bias=True)\n",
              "              (value): Linear(in_features=768, out_features=768, bias=True)\n",
              "              (dropout): Dropout(p=0.1, inplace=False)\n",
              "            )\n",
              "            (output): BertSelfOutput(\n",
              "              (dense): Linear(in_features=768, out_features=768, bias=True)\n",
              "              (LayerNorm): LayerNorm((768,), eps=1e-12, elementwise_affine=True)\n",
              "              (dropout): Dropout(p=0.1, inplace=False)\n",
              "            )\n",
              "          )\n",
              "          (intermediate): BertIntermediate(\n",
              "            (dense): Linear(in_features=768, out_features=3072, bias=True)\n",
              "          )\n",
              "          (output): BertOutput(\n",
              "            (dense): Linear(in_features=3072, out_features=768, bias=True)\n",
              "            (LayerNorm): LayerNorm((768,), eps=1e-12, elementwise_affine=True)\n",
              "            (dropout): Dropout(p=0.1, inplace=False)\n",
              "          )\n",
              "        )\n",
              "        (10): BertLayer(\n",
              "          (attention): BertAttention(\n",
              "            (self): BertSelfAttention(\n",
              "              (query): Linear(in_features=768, out_features=768, bias=True)\n",
              "              (key): Linear(in_features=768, out_features=768, bias=True)\n",
              "              (value): Linear(in_features=768, out_features=768, bias=True)\n",
              "              (dropout): Dropout(p=0.1, inplace=False)\n",
              "            )\n",
              "            (output): BertSelfOutput(\n",
              "              (dense): Linear(in_features=768, out_features=768, bias=True)\n",
              "              (LayerNorm): LayerNorm((768,), eps=1e-12, elementwise_affine=True)\n",
              "              (dropout): Dropout(p=0.1, inplace=False)\n",
              "            )\n",
              "          )\n",
              "          (intermediate): BertIntermediate(\n",
              "            (dense): Linear(in_features=768, out_features=3072, bias=True)\n",
              "          )\n",
              "          (output): BertOutput(\n",
              "            (dense): Linear(in_features=3072, out_features=768, bias=True)\n",
              "            (LayerNorm): LayerNorm((768,), eps=1e-12, elementwise_affine=True)\n",
              "            (dropout): Dropout(p=0.1, inplace=False)\n",
              "          )\n",
              "        )\n",
              "        (11): BertLayer(\n",
              "          (attention): BertAttention(\n",
              "            (self): BertSelfAttention(\n",
              "              (query): Linear(in_features=768, out_features=768, bias=True)\n",
              "              (key): Linear(in_features=768, out_features=768, bias=True)\n",
              "              (value): Linear(in_features=768, out_features=768, bias=True)\n",
              "              (dropout): Dropout(p=0.1, inplace=False)\n",
              "            )\n",
              "            (output): BertSelfOutput(\n",
              "              (dense): Linear(in_features=768, out_features=768, bias=True)\n",
              "              (LayerNorm): LayerNorm((768,), eps=1e-12, elementwise_affine=True)\n",
              "              (dropout): Dropout(p=0.1, inplace=False)\n",
              "            )\n",
              "          )\n",
              "          (intermediate): BertIntermediate(\n",
              "            (dense): Linear(in_features=768, out_features=3072, bias=True)\n",
              "          )\n",
              "          (output): BertOutput(\n",
              "            (dense): Linear(in_features=3072, out_features=768, bias=True)\n",
              "            (LayerNorm): LayerNorm((768,), eps=1e-12, elementwise_affine=True)\n",
              "            (dropout): Dropout(p=0.1, inplace=False)\n",
              "          )\n",
              "        )\n",
              "      )\n",
              "    )\n",
              "    (pooler): BertPooler(\n",
              "      (dense): Linear(in_features=768, out_features=768, bias=True)\n",
              "      (activation): Tanh()\n",
              "    )\n",
              "  )\n",
              "  (dropout): Dropout(p=0.1, inplace=False)\n",
              "  (classifier): Linear(in_features=768, out_features=7, bias=True)\n",
              ")"
            ]
          },
          "metadata": {
            "tags": []
          },
          "execution_count": 22
        }
      ]
    },
    {
      "cell_type": "code",
      "metadata": {
        "id": "ixugsGIUCDGB",
        "colab_type": "code",
        "colab": {}
      },
      "source": [
        "optimizer = AdamW(model.parameters(),\n",
        "                  lr = 2e-5, # args.learning_rate - default is 5e-5, our notebook had 2e-5\n",
        "                  eps = 1e-8 # args.adam_epsilon  - default is 1e-8.\n",
        "                )\n"
      ],
      "execution_count": 0,
      "outputs": []
    },
    {
      "cell_type": "code",
      "metadata": {
        "id": "5ROZRo9ACE2a",
        "colab_type": "code",
        "colab": {}
      },
      "source": [
        "from transformers import get_linear_schedule_with_warmup\n",
        "\n",
        "# Number of training epochs (authors recommend between 2 and 4)\n",
        "epochs = 5\n",
        "\n",
        "# Total number of training steps is number of batches * number of epochs.\n",
        "total_steps = len(train_dataloader) * epochs\n",
        "\n",
        "# Create the learning rate scheduler.\n",
        "scheduler = get_linear_schedule_with_warmup(optimizer, \n",
        "                                            num_warmup_steps = 0, # Default value in run_glue.py\n",
        "                                            num_training_steps = total_steps)"
      ],
      "execution_count": 0,
      "outputs": []
    },
    {
      "cell_type": "code",
      "metadata": {
        "id": "MrUfPh8_CH8V",
        "colab_type": "code",
        "colab": {}
      },
      "source": [
        "def flat_accuracy(preds, labels):\n",
        "    pred_flat = np.argmax(preds, axis=1).flatten()\n",
        "    labels_flat = labels.flatten()\n",
        "    return np.sum(pred_flat == labels_flat) / len(labels_flat)\n",
        "\n",
        "def class_accuracy(preds, labels):\n",
        "    pred_flat = np.argmax(preds, axis=1).flatten()\n",
        "    labels_flat = labels.flatten()\n",
        "    scores = list()\n",
        "    for i in range(len(artists)):\n",
        "        args = np.argwhere(labels_flat==i)\n",
        "        accuracy = np.sum(labels_flat[args] == pred_flat[args]) / len(args)\n",
        "        scores.append(accuracy)\n",
        "    return scores\n",
        "\n"
      ],
      "execution_count": 0,
      "outputs": []
    },
    {
      "cell_type": "code",
      "metadata": {
        "id": "V205w9OxCKho",
        "colab_type": "code",
        "colab": {}
      },
      "source": [
        "def format_time(elapsed):\n",
        "    '''\n",
        "    Takes a time in seconds and returns a string hh:mm:ss\n",
        "    '''\n",
        "    # Round to the nearest second.\n",
        "    elapsed_rounded = int(round((elapsed)))\n",
        "    \n",
        "    # Format as hh:mm:ss\n",
        "    return str(datetime.timedelta(seconds=elapsed_rounded))"
      ],
      "execution_count": 0,
      "outputs": []
    },
    {
      "cell_type": "markdown",
      "metadata": {
        "id": "sNp7OfqRCpze",
        "colab_type": "text"
      },
      "source": [
        "##b) Training Loop\n"
      ]
    },
    {
      "cell_type": "code",
      "metadata": {
        "id": "7uclJRLpCr9M",
        "colab_type": "code",
        "outputId": "98eeb79a-3e67-4b8a-a8fc-9252eafe33f2",
        "colab": {
          "base_uri": "https://localhost:8080/",
          "height": 1000
        }
      },
      "source": [
        "import random\n",
        "\n",
        "# This training code is based on the `run_glue.py` script here:\n",
        "# https://github.com/huggingface/transformers/blob/5bfcd0485ece086ebcbed2d008813037968a9e58/examples/run_glue.py#L128\n",
        "\n",
        "\n",
        "# Set the seed value all over the place to make this reproducible.\n",
        "seed_val = 42\n",
        "\n",
        "random.seed(seed_val)\n",
        "np.random.seed(seed_val)\n",
        "torch.manual_seed(seed_val)\n",
        "torch.cuda.manual_seed_all(seed_val)\n",
        "\n",
        "# Store the average loss after each epoch so we can plot them.\n",
        "loss_values = []\n",
        "# Store class accuracies, then avg columns.\n",
        "class_accuracies = []\n",
        "\n",
        "# For each epoch...\n",
        "for epoch_i in range(0, epochs):\n",
        "    \n",
        "    # ========================================\n",
        "    #               Training\n",
        "    # ========================================\n",
        "    \n",
        "    print(\"\")\n",
        "    print('======== Epoch {:} / {:} ========'.format(epoch_i + 1, epochs))\n",
        "    print('Training...')\n",
        "\n",
        "    # Measure how long the training epoch takes.\n",
        "    t0 = time.time()\n",
        "\n",
        "    # Reset the total loss for this epoch.\n",
        "    total_loss = 0\n",
        "\n",
        "    # Put the model into training mode. Don't be mislead--the call to \n",
        "    # `train` just changes the *mode*, it doesn't *perform* the training.\n",
        "    # `dropout` and `batchnorm` layers behave differently during training\n",
        "    # vs. test (source: https://stackoverflow.com/questions/51433378/what-does-model-train-do-in-pytorch)\n",
        "    model.train()\n",
        "\n",
        "    # For each batch of training data...\n",
        "    for step, batch in enumerate(train_dataloader):\n",
        "\n",
        "        # Progress update every 40 batches.\n",
        "        if step % 40 == 0 and not step == 0:\n",
        "            # Calculate elapsed time in minutes.\n",
        "            elapsed = format_time(time.time() - t0)\n",
        "            \n",
        "            # Report progress.\n",
        "            print('  Batch {:>5,}  of  {:>5,}.    Elapsed: {:}.'.format(step, len(train_dataloader), elapsed))\n",
        "\n",
        "        # Unpack this training batch from our dataloader. \n",
        "        #\n",
        "        # As we unpack the batch, we'll also copy each tensor to the GPU using the \n",
        "        # `to` method.\n",
        "        #\n",
        "        # `batch` contains three pytorch tensors:\n",
        "        #   [0]: input ids \n",
        "        #   [1]: attention masks\n",
        "        #   [2]: labels \n",
        "        b_input_ids = batch[0].to(device)\n",
        "        b_input_mask = batch[1].to(device)\n",
        "        b_labels = batch[2].to(device)\n",
        "\n",
        "        # Always clear any previously calculated gradients before performing a\n",
        "        # backward pass. PyTorch doesn't do this automatically because \n",
        "        # accumulating the gradients is \"convenient while training RNNs\". \n",
        "        # (source: https://stackoverflow.com/questions/48001598/why-do-we-need-to-call-zero-grad-in-pytorch)\n",
        "        model.zero_grad()        \n",
        "\n",
        "        # Perform a forward pass (evaluate the model on this training batch).\n",
        "        # This will return the loss (rather than the model output) because we\n",
        "        # have provided the `labels`.\n",
        "        # The documentation for this `model` function is here: \n",
        "        # https://huggingface.co/transformers/v2.2.0/model_doc/bert.html#transformers.BertForSequenceClassification\n",
        "        outputs = model(b_input_ids, \n",
        "                    token_type_ids=None, \n",
        "                    attention_mask=b_input_mask, \n",
        "                    labels=b_labels)\n",
        "        \n",
        "        # The call to `model` always returns a tuple, so we need to pull the \n",
        "        # loss value out of the tuple.\n",
        "        loss = outputs[0]\n",
        "\n",
        "        # Accumulate the training loss over all of the batches so that we can\n",
        "        # calculate the average loss at the end. `loss` is a Tensor containing a\n",
        "        # single value; the `.item()` function just returns the Python value \n",
        "        # from the tensor.\n",
        "        total_loss += loss.item()\n",
        "\n",
        "        # Perform a backward pass to calculate the gradients.\n",
        "        loss.backward()\n",
        "\n",
        "        # Clip the norm of the gradients to 1.0.\n",
        "        # This is to help prevent the \"exploding gradients\" problem.\n",
        "        torch.nn.utils.clip_grad_norm_(model.parameters(), 1.0)\n",
        "\n",
        "        # Update parameters and take a step using the computed gradient.\n",
        "        # The optimizer dictates the \"update rule\"--how the parameters are\n",
        "        # modified based on their gradients, the learning rate, etc.\n",
        "        optimizer.step()\n",
        "\n",
        "        # Update the learning rate.\n",
        "        scheduler.step()\n",
        "\n",
        "    # Calculate the average loss over the training data.\n",
        "    avg_train_loss = total_loss / len(train_dataloader)            \n",
        "    \n",
        "    # Store the loss value for plotting the learning curve.\n",
        "    loss_values.append(avg_train_loss)\n",
        "\n",
        "    print(\"\")\n",
        "    print(\"  Average training loss: {0:.2f}\".format(avg_train_loss))\n",
        "    print(\"  Training epcoh took: {:}\".format(format_time(time.time() - t0)))\n",
        "        \n",
        "    # ========================================\n",
        "    #               Validation\n",
        "    # ========================================\n",
        "    # After the completion of each training epoch, measure our performance on\n",
        "    # our validation set.\n",
        "\n",
        "    print(\"\")\n",
        "    print(\"Running Validation...\")\n",
        "\n",
        "    t0 = time.time()\n",
        "\n",
        "    # Put the model in evaluation mode--the dropout layers behave differently\n",
        "    # during evaluation.\n",
        "    model.eval()\n",
        "\n",
        "    # Tracking variables \n",
        "    eval_loss, eval_accuracy = 0, 0\n",
        "    nb_eval_steps, nb_eval_examples = 0, 0\n",
        "\n",
        "    # Evaluate data for one epoch\n",
        "    for batch in validation_dataloader:\n",
        "        \n",
        "        # Add batch to GPU\n",
        "        batch = tuple(t.to(device) for t in batch)\n",
        "        \n",
        "        # Unpack the inputs from our dataloader\n",
        "        b_input_ids, b_input_mask, b_labels = batch\n",
        "        \n",
        "        # Telling the model not to compute or store gradients, saving memory and\n",
        "        # speeding up validation\n",
        "        with torch.no_grad():        \n",
        "\n",
        "            # Forward pass, calculate logit predictions.\n",
        "            # This will return the logits rather than the loss because we have\n",
        "            # not provided labels.\n",
        "            # token_type_ids is the same as the \"segment ids\", which \n",
        "            # differentiates sentence 1 and 2 in 2-sentence tasks.\n",
        "            # The documentation for this `model` function is here: \n",
        "            # https://huggingface.co/transformers/v2.2.0/model_doc/bert.html#transformers.BertForSequenceClassification\n",
        "            outputs = model(b_input_ids, \n",
        "                            token_type_ids=None, \n",
        "                            attention_mask=b_input_mask)\n",
        "        \n",
        "        # Get the \"logits\" output by the model. The \"logits\" are the output\n",
        "        # values prior to applying an activation function like the softmax.\n",
        "        logits = outputs[0]\n",
        "\n",
        "        # Move logits and labels to CPU\n",
        "        logits = logits.detach().cpu().numpy()\n",
        "        label_ids = b_labels.to('cpu').numpy()\n",
        "        \n",
        "        # Calculate the accuracy for this batch of test sentences.\n",
        "        tmp_eval_accuracy = flat_accuracy(logits, label_ids)\n",
        "        class_accuracies.append( class_accuracy(logits, label_ids) )\n",
        "\n",
        "        # Accumulate the total accuracy.\n",
        "        eval_accuracy += tmp_eval_accuracy\n",
        "\n",
        "        # Track the number of batches\n",
        "        nb_eval_steps += 1\n",
        "\n",
        "    # Report the final accuracy for this validation run.\n",
        "    print(\"  Accuracy: {0:.2f}\".format(eval_accuracy/nb_eval_steps))\n",
        "    print(\"  Validation took: {:}\".format(format_time(time.time() - t0)))\n",
        "\n",
        "print(\"\")\n",
        "print(\"Training complete!\")"
      ],
      "execution_count": 0,
      "outputs": [
        {
          "output_type": "stream",
          "text": [
            "\n",
            "======== Epoch 1 / 5 ========\n",
            "Training...\n",
            "  Batch    40  of    240.    Elapsed: 0:00:17.\n",
            "  Batch    80  of    240.    Elapsed: 0:00:35.\n",
            "  Batch   120  of    240.    Elapsed: 0:00:52.\n",
            "  Batch   160  of    240.    Elapsed: 0:01:09.\n",
            "  Batch   200  of    240.    Elapsed: 0:01:27.\n",
            "\n",
            "  Average training loss: 1.65\n",
            "  Training epcoh took: 0:01:45\n",
            "\n",
            "Running Validation...\n"
          ],
          "name": "stdout"
        },
        {
          "output_type": "stream",
          "text": [
            "/usr/local/lib/python3.6/dist-packages/ipykernel_launcher.py:12: RuntimeWarning: invalid value encountered in long_scalars\n",
            "  if sys.path[0] == '':\n"
          ],
          "name": "stderr"
        },
        {
          "output_type": "stream",
          "text": [
            "  Accuracy: 0.53\n",
            "  Validation took: 0:00:03\n",
            "\n",
            "======== Epoch 2 / 5 ========\n",
            "Training...\n",
            "  Batch    40  of    240.    Elapsed: 0:00:18.\n",
            "  Batch    80  of    240.    Elapsed: 0:00:35.\n",
            "  Batch   120  of    240.    Elapsed: 0:00:53.\n",
            "  Batch   160  of    240.    Elapsed: 0:01:11.\n",
            "  Batch   200  of    240.    Elapsed: 0:01:28.\n",
            "\n",
            "  Average training loss: 0.97\n",
            "  Training epcoh took: 0:01:46\n",
            "\n",
            "Running Validation...\n",
            "  Accuracy: 0.75\n",
            "  Validation took: 0:00:03\n",
            "\n",
            "======== Epoch 3 / 5 ========\n",
            "Training...\n",
            "  Batch    40  of    240.    Elapsed: 0:00:18.\n",
            "  Batch    80  of    240.    Elapsed: 0:00:35.\n",
            "  Batch   120  of    240.    Elapsed: 0:00:53.\n",
            "  Batch   160  of    240.    Elapsed: 0:01:11.\n",
            "  Batch   200  of    240.    Elapsed: 0:01:29.\n",
            "\n",
            "  Average training loss: 0.51\n",
            "  Training epcoh took: 0:01:47\n",
            "\n",
            "Running Validation...\n",
            "  Accuracy: 0.81\n",
            "  Validation took: 0:00:03\n",
            "\n",
            "======== Epoch 4 / 5 ========\n",
            "Training...\n",
            "  Batch    40  of    240.    Elapsed: 0:00:18.\n",
            "  Batch    80  of    240.    Elapsed: 0:00:36.\n",
            "  Batch   120  of    240.    Elapsed: 0:00:53.\n",
            "  Batch   160  of    240.    Elapsed: 0:01:11.\n",
            "  Batch   200  of    240.    Elapsed: 0:01:29.\n",
            "\n",
            "  Average training loss: 0.28\n",
            "  Training epcoh took: 0:01:47\n",
            "\n",
            "Running Validation...\n",
            "  Accuracy: 0.81\n",
            "  Validation took: 0:00:03\n",
            "\n",
            "======== Epoch 5 / 5 ========\n",
            "Training...\n",
            "  Batch    40  of    240.    Elapsed: 0:00:18.\n",
            "  Batch    80  of    240.    Elapsed: 0:00:36.\n",
            "  Batch   120  of    240.    Elapsed: 0:00:53.\n",
            "  Batch   160  of    240.    Elapsed: 0:01:11.\n",
            "  Batch   200  of    240.    Elapsed: 0:01:29.\n",
            "\n",
            "  Average training loss: 0.17\n",
            "  Training epcoh took: 0:01:47\n",
            "\n",
            "Running Validation...\n",
            "  Accuracy: 0.81\n",
            "  Validation took: 0:00:03\n",
            "\n",
            "Training complete!\n"
          ],
          "name": "stdout"
        }
      ]
    },
    {
      "cell_type": "code",
      "metadata": {
        "id": "KZMo2Gq5xu2x",
        "colab_type": "code",
        "outputId": "c889ba40-d59d-4005-e8ec-35ebe6883d07",
        "colab": {
          "base_uri": "https://localhost:8080/",
          "height": 201
        }
      },
      "source": [
        "class_accuracies = np.asarray(class_accuracies)\n",
        "print('Class Avg Accuracies on Validation Data\\n')\n",
        "pd.DataFrame(class_accuracies, columns=artists).mean()"
      ],
      "execution_count": 0,
      "outputs": [
        {
          "output_type": "stream",
          "text": [
            "Class Avg Accuracies on Validation Data\n",
            "\n"
          ],
          "name": "stdout"
        },
        {
          "output_type": "execute_result",
          "data": {
            "text/plain": [
              "The 1975                 0.700000\n",
              "John Mayer               0.654545\n",
              "J. Cole                  0.628889\n",
              "Kanye West               0.697917\n",
              "Modest Mouse             0.770606\n",
              "Red Hot Chili Peppers    0.729333\n",
              "Taylor Swift             0.933205\n",
              "dtype: float64"
            ]
          },
          "metadata": {
            "tags": []
          },
          "execution_count": 28
        }
      ]
    },
    {
      "cell_type": "markdown",
      "metadata": {
        "id": "6N6cmweEBW7O",
        "colab_type": "text"
      },
      "source": [
        "##c) Graphing Loss"
      ]
    },
    {
      "cell_type": "code",
      "metadata": {
        "id": "-O_kVWOzEwBi",
        "colab_type": "code",
        "outputId": "bfc73407-386c-4c1e-fe9f-0221fc2921eb",
        "colab": {
          "base_uri": "https://localhost:8080/",
          "height": 427
        }
      },
      "source": [
        "# Use plot styling from seaborn.\n",
        "sn.set(style='darkgrid')\n",
        "\n",
        "# Increase the plot size and font size.\n",
        "sn.set(font_scale=1.5)\n",
        "plt.rcParams[\"figure.figsize\"] = (12,6)\n",
        "\n",
        "# Plot the learning curve.\n",
        "plt.plot(loss_values, 'b-o')\n",
        "\n",
        "# Label the plot.\n",
        "plt.title(\"Training loss\")\n",
        "plt.xlabel(\"Epoch\")\n",
        "plt.ylabel(\"Loss\")\n",
        "\n",
        "plt.show()"
      ],
      "execution_count": 0,
      "outputs": [
        {
          "output_type": "display_data",
          "data": {
            "image/png": "[encoded data removed]",
            "text/plain": [
              "<Figure size 864x432 with 1 Axes>"
            ]
          },
          "metadata": {
            "tags": []
          }
        }
      ]
    },
    {
      "cell_type": "markdown",
      "metadata": {
        "id": "sukKuy0eBbjU",
        "colab_type": "text"
      },
      "source": [
        "##d) Evaluating the model on test data"
      ]
    },
    {
      "cell_type": "code",
      "metadata": {
        "id": "DzJEYMEQBgYo",
        "colab_type": "code",
        "outputId": "5b29343f-e47c-4c0b-a323-28e6cecd1027",
        "colab": {
          "base_uri": "https://localhost:8080/",
          "height": 72
        }
      },
      "source": [
        "# Report the number of sentences.\n",
        "print('Number of test verses: {:,}\\n'.format(verses_test_df.shape[0]))\n",
        "\n",
        "# # # Create sentence and label lists\n",
        "# reviews_test = reviews_test_df['reviewText'].values\n",
        "# labels_test = reviews_test_df['label'].values\n",
        "\n",
        "test_inputs =  verses_test_df['verse'].values\n",
        "labels_test = verses_test_df['class'].values\n",
        "labels_test = [label_conversion[a] for a in labels_test]\n",
        "\n",
        "# Tokenize all of the sentences and map the tokens to thier word IDs.\n",
        "input_ids = []\n",
        "\n",
        "# For every sentence...\n",
        "for verse in test_inputs:\n",
        "    # `encode` will:\n",
        "    #   (1) Tokenize the sentence.\n",
        "    #   (2) Prepend the `[CLS]` token to the start.\n",
        "    #   (3) Append the `[SEP]` token to the end.\n",
        "    #   (4) Map tokens to their IDs.\n",
        "    encoded_sent = tokenizer.encode(\n",
        "                        verse,                      # Sentence to encode.\n",
        "                        add_special_tokens = True, # Add '[CLS]' and '[SEP]'\n",
        "                   )\n",
        "    \n",
        "    input_ids.append(encoded_sent)\n",
        "\n",
        "# Pad our input tokens\n",
        "input_ids = pad_sequences(input_ids, maxlen=MAX_LEN, \n",
        "                          dtype=\"long\", truncating=\"post\", padding=\"post\")\n",
        "\n",
        "# Create attention masks\n",
        "attention_masks = []\n",
        "\n",
        "# Create a mask of 1s for each token followed by 0s for padding\n",
        "for seq in input_ids:\n",
        "  seq_mask = [float(i>0) for i in seq]\n",
        "  attention_masks.append(seq_mask) \n",
        "\n",
        "# Convert to tensors.\n",
        "prediction_inputs = torch.tensor(input_ids)\n",
        "prediction_masks = torch.tensor(attention_masks)\n",
        "prediction_labels = torch.tensor(labels_test)\n",
        "\n",
        "# Set the batch size.  \n",
        "batch_size = 16  \n",
        "\n",
        "# Create the DataLoader.\n",
        "prediction_data = TensorDataset(prediction_inputs, prediction_masks, prediction_labels)\n",
        "prediction_sampler = SequentialSampler(prediction_data)\n",
        "prediction_dataloader = DataLoader(prediction_data, sampler=prediction_sampler, batch_size=batch_size)"
      ],
      "execution_count": 0,
      "outputs": [
        {
          "output_type": "stream",
          "text": [
            "Token indices sequence length is longer than the specified maximum sequence length for this model (645 > 512). Running this sequence through the model will result in indexing errors\n"
          ],
          "name": "stderr"
        },
        {
          "output_type": "stream",
          "text": [
            "Number of test verses: 474\n",
            "\n"
          ],
          "name": "stdout"
        }
      ]
    },
    {
      "cell_type": "code",
      "metadata": {
        "id": "KHKzyjoOB7ZY",
        "colab_type": "code",
        "outputId": "5c9093d0-18fb-43ba-a8a8-24a9a5f70e81",
        "colab": {
          "base_uri": "https://localhost:8080/",
          "height": 54
        }
      },
      "source": [
        "# Prediction on test set\n",
        "\n",
        "print('Predicting labels for {:,} test sentences...'.format(len(prediction_inputs)))\n",
        "\n",
        "# Put model in evaluation mode\n",
        "model.eval()\n",
        "\n",
        "# Tracking variables \n",
        "predictions , true_labels = [], []\n",
        "\n",
        "# Predict \n",
        "for batch in prediction_dataloader:\n",
        "  # Add batch to GPU\n",
        "  batch = tuple(t.to(device) for t in batch)\n",
        "  \n",
        "  # Unpack the inputs from our dataloader\n",
        "  b_input_ids, b_input_mask, b_labels = batch\n",
        "  \n",
        "  # Telling the model not to compute or store gradients, saving memory and \n",
        "  # speeding up prediction\n",
        "  with torch.no_grad():\n",
        "      # Forward pass, calculate logit predictions\n",
        "      outputs = model(b_input_ids, token_type_ids=None, \n",
        "                      attention_mask=b_input_mask)\n",
        "\n",
        "  logits = outputs[0]\n",
        "\n",
        "  # Move logits and labels to CPU\n",
        "  logits = logits.detach().cpu().numpy()\n",
        "  label_ids = b_labels.to('cpu').numpy()\n",
        "  \n",
        "  # Store predictions and true labels\n",
        "  predictions.append(logits)\n",
        "  true_labels.append(label_ids)\n",
        "\n",
        "print('    DONE.')"
      ],
      "execution_count": 0,
      "outputs": [
        {
          "output_type": "stream",
          "text": [
            "Predicting labels for 474 test sentences...\n",
            "    DONE.\n"
          ],
          "name": "stdout"
        }
      ]
    },
    {
      "cell_type": "code",
      "metadata": {
        "id": "hsXM4FDgCTAY",
        "colab_type": "code",
        "outputId": "08f90f37-01fc-4301-d115-6f1b1939e0b1",
        "colab": {
          "base_uri": "https://localhost:8080/",
          "height": 35
        }
      },
      "source": [
        "from sklearn.metrics import matthews_corrcoef\n",
        "\n",
        "matthews_set = []\n",
        "\n",
        "# Evaluate each test batch using Matthew's correlation coefficient\n",
        "print('Calculating Matthews Corr. Coef. for each batch...')\n",
        "\n",
        "# For each input batch...\n",
        "for i in range(len(true_labels)):\n",
        "  \n",
        "  # The predictions for this batch are a 2-column ndarray (one column for \"0\" \n",
        "  # and one column for \"1\"). Pick the label with the highest value and turn this\n",
        "  # in to a list of 0s and 1s.\n",
        "  pred_labels_i = np.argmax(predictions[i], axis=1).flatten()\n",
        "  \n",
        "  # Calculate and store the coef for this batch.  \n",
        "  matthews = matthews_corrcoef(true_labels[i], pred_labels_i)                \n",
        "  matthews_set.append(matthews)"
      ],
      "execution_count": 0,
      "outputs": [
        {
          "output_type": "stream",
          "text": [
            "Calculating Matthews Corr. Coef. for each batch...\n"
          ],
          "name": "stdout"
        }
      ]
    },
    {
      "cell_type": "code",
      "metadata": {
        "id": "Qoaxy7okCejU",
        "colab_type": "code",
        "colab": {}
      },
      "source": [
        "# Combine the predictions for each batch into a single list of 0s and 1s.\n",
        "flat_predictions = [item for sublist in predictions for item in sublist]\n",
        "flat_predictions = np.argmax(flat_predictions, axis=1).flatten()\n",
        "\n",
        "# Combine the correct labels for each batch into a single list.\n",
        "flat_true_labels = [item for sublist in true_labels for item in sublist]\n",
        "\n",
        "# Calculate the MCC\n",
        "mcc = matthews_corrcoef(flat_true_labels, flat_predictions)"
      ],
      "execution_count": 0,
      "outputs": []
    },
    {
      "cell_type": "code",
      "metadata": {
        "id": "ezwhgU0yCruG",
        "colab_type": "code",
        "outputId": "6407b693-12d2-45e6-93ba-10d52d2295a1",
        "colab": {
          "base_uri": "https://localhost:8080/",
          "height": 603
        }
      },
      "source": [
        "reversed_labels = [artists[label] for label in flat_true_labels]\n",
        "reversed_predictions = [artists[label] for label in flat_predictions]\n",
        "results = classifier_report(reversed_labels, reversed_predictions)\n",
        "generate_cm(reversed_labels, reversed_predictions, artists, normalize=None, size=(8,6))\n",
        "# generate_cm(reversed_labels, reversed_predictions, artists, normalize='true', size=(8,6))\n",
        "\n",
        "print('MCC: %.3f' % mcc)\n",
        "results"
      ],
      "execution_count": 0,
      "outputs": [
        {
          "output_type": "stream",
          "text": [
            "MCC: 0.663\n"
          ],
          "name": "stdout"
        },
        {
          "output_type": "execute_result",
          "data": {
            "text/plain": [
              "{'accuracy': 0.711, 'f1': 0.713, 'precision': 0.557, 'recall': 0.705}"
            ]
          },
          "metadata": {
            "tags": []
          },
          "execution_count": 34
        },
        {
          "output_type": "display_data",
          "data": {
            "image/png": "[encoded data removed]",
            "text/plain": [
              "<Figure size 576x432 with 2 Axes>"
            ]
          },
          "metadata": {
            "tags": []
          }
        }
      ]
    },
    {
      "cell_type": "markdown",
      "metadata": {
        "id": "P5IGupa_JBDi",
        "colab_type": "text"
      },
      "source": [
        "##e) Analysis\n",
        "\n",
        "This model is simpler to develop in that there are less choices to make. Using 6 epochs may have been slightly too much, but it made for better performance than 4. This model works better than the SVC classifier on Taylor Swift and John Mayer lyrics. \n",
        "\n",
        "BERT Results\n",
        "MCC: 0.714\n",
        "\n",
        "{'accuracy': 0.753, 'f1': 0.75, 'precision': 0.607, 'recall': 0.747}"
      ]
    },
    {
      "cell_type": "markdown",
      "metadata": {
        "id": "UNgn4m1tDtR1",
        "colab_type": "text"
      },
      "source": [
        "#4: Preparing SVC Classifier\n",
        "\n",
        "Need to prepare pipeline, get class accuracy results on validation data.\n",
        "\n",
        "I am going to take the best features from the other project, put them into the pipeline, and train. \n",
        "\n",
        "Features to be included:\n",
        "\n",
        "*   TF-IDF Vectorizer\n",
        "*   Doc 2 Vec\n",
        "*   Compound Sentiment Analysis\n",
        "*   Line Count\n",
        "*   Word Count\n",
        "\n",
        "\n",
        "N.B: The lyrics are in \n",
        "```train_inputs, validation_inputs, test_inputs```\n",
        ", and the labels are in respectively named arrays. I will take these, and change them into dataframes while calculating features to maintain the pipeline structure from the previous project.\n",
        "\n",
        "\n"
      ]
    },
    {
      "cell_type": "code",
      "metadata": {
        "id": "RXOA4caz49U4",
        "colab_type": "code",
        "outputId": "d326bf99-b369-4a46-dd3c-a2cc356ece59",
        "colab": {
          "base_uri": "https://localhost:8080/",
          "height": 164
        }
      },
      "source": [
        "verses_test_df['class'].value_counts()\n",
        "# verses_df.info()"
      ],
      "execution_count": 0,
      "outputs": [
        {
          "output_type": "execute_result",
          "data": {
            "text/plain": [
              "Kanye West               89\n",
              "Red Hot Chili Peppers    78\n",
              "Taylor Swift             75\n",
              "J. Cole                  70\n",
              "John Mayer               62\n",
              "Modest Mouse             56\n",
              "The 1975                 44\n",
              "Name: class, dtype: int64"
            ]
          },
          "metadata": {
            "tags": []
          },
          "execution_count": 43
        }
      ]
    },
    {
      "cell_type": "markdown",
      "metadata": {
        "id": "3rI-4DGz5LOm",
        "colab_type": "text"
      },
      "source": [
        "##a) Doc2Vec"
      ]
    },
    {
      "cell_type": "code",
      "metadata": {
        "id": "1f1OdAV75NG-",
        "colab_type": "code",
        "colab": {}
      },
      "source": [
        "# Referenced https://fzr72725.github.io/2018/01/14/genism-guide.html\n",
        "def tag_docs(df):\n",
        "    tagged = df.apply(lambda row: \n",
        "                            TaggedDocument(words=tokenize_normalize(row['verse']),\n",
        "                                            tags=[row['class']]), axis=1\n",
        "                            )\n",
        "    return tagged\n",
        "\n",
        "def train_w2v(tagged):\n",
        "    sentences = tagged.values\n",
        "    model = Doc2Vec(sentences, alpha=0.025, min_alpha=0.001, min_count=5, window=8, epochs=10)\n",
        "    return model\n",
        "\n",
        "def feature_doc2vec(d2v, tagged_docs):\n",
        "    sentences =  tagged_docs.values\n",
        "    targets, regressors = zip(*[(doc.tags[0], d2v.infer_vector(doc.words, steps=20)) for doc in sentences])\n",
        "    return targets, regressors\n",
        "\n"
      ],
      "execution_count": 0,
      "outputs": []
    },
    {
      "cell_type": "markdown",
      "metadata": {
        "id": "2xlmMPLn5Rff",
        "colab_type": "text"
      },
      "source": [
        "##b) Sentiment Analysis, Line Counts, Word Counts"
      ]
    },
    {
      "cell_type": "code",
      "metadata": {
        "id": "Hw1S7Q2-5zB2",
        "colab_type": "code",
        "colab": {}
      },
      "source": [
        "vader = SentimentIntensityAnalyzer()\n",
        "reset_keys = ['class','title','verse']\n",
        "\n",
        "verses_df = verses_df[reset_keys]\n",
        "verses_test_df = verses_test_df[reset_keys]\n",
        "\n",
        "verses_df = pd.concat([verses_df,  verses_df['verse'].apply(lambda l: pd.Series({'compound': vader.polarity_scores(l)['compound']}))  ], axis=1)\n",
        "\n",
        "verses_df = pd.concat([verses_df, verses_df['verse'].apply(lambda l: pd.Series({\n",
        "                        'word_count': len(re.split('\\s+', l)),\n",
        "                            'line_count': len(re.split('\\n+', l)),\n",
        "                        })) ], \n",
        "                        axis=1) \n",
        "\n",
        "verses_test_df = pd.concat([verses_test_df,  verses_test_df['verse'].apply(lambda l: pd.Series({'compound': vader.polarity_scores(l)['compound']}))  ], axis=1)\n",
        "\n",
        "verses_test_df = pd.concat([verses_test_df, verses_test_df['verse'].apply(lambda l: pd.Series({\n",
        "                        'word_count': len(re.split('\\s+', l)),\n",
        "                            'line_count': len(re.split('\\n+', l)),\n",
        "                        })) ], \n",
        "                        axis=1) \n",
        "     "
      ],
      "execution_count": 0,
      "outputs": []
    },
    {
      "cell_type": "markdown",
      "metadata": {
        "id": "GAzu2F5amkeb",
        "colab_type": "text"
      },
      "source": [
        "##c) Tokenize, Normalize"
      ]
    },
    {
      "cell_type": "code",
      "metadata": {
        "id": "swUDlGUbmmwi",
        "colab_type": "code",
        "outputId": "fa6e08e6-147c-4dcd-eb45-f600f199dc11",
        "colab": {
          "base_uri": "https://localhost:8080/",
          "height": 54
        }
      },
      "source": [
        "nlp = spacy.load('en_core_web_sm', disable=['ner'])\n",
        "nlp.remove_pipe('tagger')\n",
        "nlp.remove_pipe('parser')\n",
        "nltk.download('stopwords')\n",
        "sw_set = set(nltk.corpus.stopwords.words('english'))\n",
        "\n",
        "#Prevents errors when passing pre tokenized data to a vectorizer\n",
        "def dum_tokenizer(docs):\n",
        "    return docs\n",
        "def dum_preprocessor(docs):\n",
        "    return docs\n",
        "\n",
        "\n",
        "def spacy_tokenize(string):\n",
        "    tokens = []\n",
        "    doc = nlp(string)\n",
        "    for token in doc:\n",
        "        tokens.append(token)\n",
        "    return tokens\n",
        "\n",
        "\n",
        "def normalize(tokens ):\n",
        "    normalized_tokens = list()\n",
        "    for token in tokens:\n",
        "        normalized = token.text.lower().strip()\n",
        "        if ((token.is_alpha or token.is_digit)):\n",
        "            normalized_tokens.append(normalized)\n",
        "    return normalized_tokens\n",
        "\n",
        "\n",
        "def tokenize_normalize(string):\n",
        "    return normalize(spacy_tokenize(string))  \n",
        "\n",
        "\n",
        "# Specifically tokenizes for punctuation.\n",
        "def punctuation_tn(string):\n",
        "    tkns = spacy_tokenize(string)\n",
        "    normalized_tokens = list()\n",
        "    for token in tkns:\n",
        "        normalized = token.text.lower().strip()\n",
        "        if token.text in [',','!','?']:\n",
        "            normalized_tokens.append(normalized)\n",
        "\n",
        "    return normalized_tokens\n"
      ],
      "execution_count": 0,
      "outputs": [
        {
          "output_type": "stream",
          "text": [
            "[nltk_data] Downloading package stopwords to /root/nltk_data...\n",
            "[nltk_data]   Unzipping corpora/stopwords.zip.\n"
          ],
          "name": "stdout"
        }
      ]
    },
    {
      "cell_type": "markdown",
      "metadata": {
        "id": "yBxhV0-IgqtR",
        "colab_type": "text"
      },
      "source": [
        "##d) Feature Extraction Class"
      ]
    },
    {
      "cell_type": "code",
      "metadata": {
        "id": "qdY9oAuegtba",
        "colab_type": "code",
        "colab": {}
      },
      "source": [
        "numerical_feature_keys = ['compound', 'word_count', 'line_count', 'avg_line_len', 'avg_word_len']\n",
        "\n",
        "class FeatureSelect(BaseEstimator, TransformerMixin):\n",
        "\n",
        "    def __init__(self, key=None):\n",
        "        self.key=key\n",
        "\n",
        "    def fit(self, x, y=None):\n",
        "        return self\n",
        "\n",
        "    def transform(self, data):\n",
        "\n",
        "        if self.key: \n",
        "            if self.key in numerical_feature_keys:\n",
        "                return np.reshape(data[self.key].to_numpy(), (-1, 1))\n",
        "                \n",
        "            elif self.key == 'pos':\n",
        "                return pos_tagger(data)\n",
        "\n",
        "            elif self.key=='doc2vec':  \n",
        "                tagged = tag_docs(data)\n",
        "                try:\n",
        "                    #Load D2V model\n",
        "                    print('Loading Doc2Vec Model..')\n",
        "                    model = Doc2Vec.load(d2v_model) \n",
        "                    print(\"Loaded.\")\n",
        "                except Exception as e:\n",
        "                    #Not found, \n",
        "                    print(e,\"\\nRetraining Doc 2 Vec Model\")\n",
        "                    model = train_w2v(tagged)\n",
        "\n",
        "                    print(\"Retrained.\")\n",
        "                    model.save(d2v_model)\n",
        "                    print(\"Model saved.\")\n",
        "\n",
        "                finally:\n",
        "                    _, features = feature_doc2vec(model, tagged)\n",
        "                    # print(features)\n",
        "                    # print(np.ndim(features))\n",
        "                    # print(feature.shape)\n",
        "\n",
        "                    # features = np.mean(np.asarray(features), axis=1)\n",
        "                    # features = np.reshape(features,(-1,1))\n",
        "                    return np.asarray(features)\n",
        "            else:\n",
        "                return data[self.key]\n",
        "\n"
      ],
      "execution_count": 0,
      "outputs": []
    },
    {
      "cell_type": "markdown",
      "metadata": {
        "id": "cGJm0cFphgTQ",
        "colab_type": "text"
      },
      "source": [
        "##e) Pipeline"
      ]
    },
    {
      "cell_type": "code",
      "metadata": {
        "id": "l0d0YYm3hskt",
        "colab_type": "code",
        "colab": {}
      },
      "source": [
        "\n",
        "feature_union = FeatureUnion(\n",
        "            transformer_list=[\n",
        "                              \n",
        "                ### Selected as best by iterative method beneath.\n",
        "                ('tfidf vectorizer', Pipeline([\n",
        "                    ('selector', FeatureSelect(key='verse')),\n",
        "                    ('tfidf', TfidfVectorizer(tokenizer=tokenize_normalize, ngram_range=(1,2), sublinear_tf=True))\n",
        "                ])),\n",
        "                ('d2v', Pipeline([\n",
        "                    ('d2v', FeatureSelect(key='doc2vec'))\n",
        "                ])),\n",
        "\n",
        "                ### Selected by SelectKBest\n",
        "                ('compound', Pipeline([\n",
        "                    ('selector', FeatureSelect(key='compound')),\n",
        "                ])),\n",
        "\n",
        "                ('line_count', Pipeline([\n",
        "                    ('selector', FeatureSelect(key='line_count')), \n",
        "                    ('value', StandardScaler() )\n",
        "                ])),\n",
        "                ('word_count', Pipeline([ #Bad Feature\n",
        "                    ('selector', FeatureSelect(key='word_count')), \n",
        "                    ('value', StandardScaler() )\n",
        "                ])),\n",
        "\n",
        "        ])\n",
        "\n",
        "svc_pipeline = Pipeline([\n",
        "        ('union', feature_union),\n",
        "        ('svc', SVC(kernel='linear', C=1, probability=True))\n",
        "    ])"
      ],
      "execution_count": 0,
      "outputs": []
    },
    {
      "cell_type": "markdown",
      "metadata": {
        "id": "ROSWuEzBnI3s",
        "colab_type": "text"
      },
      "source": [
        "##f) Training SVC"
      ]
    },
    {
      "cell_type": "code",
      "metadata": {
        "id": "RJ6k53vGnKuI",
        "colab_type": "code",
        "outputId": "2f24b515-44f8-42c4-929c-c0d0dab836da",
        "colab": {
          "base_uri": "https://localhost:8080/",
          "height": 661
        }
      },
      "source": [
        "svc_pipeline.fit(verses_df, labels_binarized)"
      ],
      "execution_count": 0,
      "outputs": [
        {
          "output_type": "stream",
          "text": [
            "Loading Doc2Vec Model..\n",
            "Loaded.\n"
          ],
          "name": "stdout"
        },
        {
          "output_type": "stream",
          "text": [
            "/usr/local/lib/python3.6/dist-packages/smart_open/smart_open_lib.py:410: UserWarning: This function is deprecated, use smart_open.open instead. See the migration notes for details: https://github.com/RaRe-Technologies/smart_open/blob/master/README.rst#migrating-to-the-new-open-function\n",
            "  'See the migration notes for details: %s' % _MIGRATION_NOTES_URL\n"
          ],
          "name": "stderr"
        },
        {
          "output_type": "execute_result",
          "data": {
            "text/plain": [
              "Pipeline(memory=None,\n",
              "         steps=[('union',\n",
              "                 FeatureUnion(n_jobs=None,\n",
              "                              transformer_list=[('tfidf vectorizer',\n",
              "                                                 Pipeline(memory=None,\n",
              "                                                          steps=[('selector',\n",
              "                                                                  FeatureSelect(key='verse')),\n",
              "                                                                 ('tfidf',\n",
              "                                                                  TfidfVectorizer(analyzer='word',\n",
              "                                                                                  binary=False,\n",
              "                                                                                  decode_error='strict',\n",
              "                                                                                  dtype=<class 'numpy.float64'>,\n",
              "                                                                                  encoding='utf-8',\n",
              "                                                                                  input='content',\n",
              "                                                                                  lowercase=True,\n",
              "                                                                                  max_df=1.0,\n",
              "                                                                                  max_features=None,\n",
              "                                                                                  m...\n",
              "                                                                  StandardScaler(copy=True,\n",
              "                                                                                 with_mean=True,\n",
              "                                                                                 with_std=True))],\n",
              "                                                          verbose=False))],\n",
              "                              transformer_weights=None, verbose=False)),\n",
              "                ('svc',\n",
              "                 SVC(C=1, break_ties=False, cache_size=200, class_weight=None,\n",
              "                     coef0=0.0, decision_function_shape='ovr', degree=3,\n",
              "                     gamma='scale', kernel='linear', max_iter=-1,\n",
              "                     probability=True, random_state=None, shrinking=True,\n",
              "                     tol=0.001, verbose=False))],\n",
              "         verbose=False)"
            ]
          },
          "metadata": {
            "tags": []
          },
          "execution_count": 79
        }
      ]
    },
    {
      "cell_type": "markdown",
      "metadata": {
        "id": "arKZMpiR4vdJ",
        "colab_type": "text"
      },
      "source": [
        "#5: Combining Models"
      ]
    },
    {
      "cell_type": "markdown",
      "metadata": {
        "id": "uRBM8zfc4AsL",
        "colab_type": "text"
      },
      "source": [
        "To combine the models, I can apply a softmax function to the BERT logit outputs, to obtain probabilities per class for a sample. The sklearn svc allows for me to use `predict_proba()` to get these values. Then, I can add the up the probabilities per class, to see which class is most likely based off the two models."
      ]
    },
    {
      "cell_type": "markdown",
      "metadata": {
        "colab_type": "text",
        "id": "F5H_7Ngk64kx"
      },
      "source": [
        "##a) BERT Predictions"
      ]
    },
    {
      "cell_type": "code",
      "metadata": {
        "id": "cndjVD-9Dy8y",
        "colab_type": "code",
        "colab": {}
      },
      "source": [
        "def softmax(x):\n",
        "    return np.exp(x) / np.sum(np.exp(x), axis=0) \n",
        "\n",
        "def combine_predict(bert_prob, svc_prob, i):\n",
        "    b_as = np.argsort(bert_prob)[::-1] \n",
        "    s_as = np.argsort(svc_prob)[::-1]\n",
        "    combined = np.sum([bert_prob, svc_prob], axis=0)\n",
        "    combined = np.argsort(combined)[::-1][0]\n",
        "    if b_as[0] != s_as[0] :\n",
        "        print('\\nDisagreement at ',i,'\\nBERT: ', b_as[0] , ' , ', bert_prob[b_as[0]], '% conf')\n",
        "        print('SVC: ', s_as[0] , ' , ', bert_prob[s_as[0]], '% conf')\n",
        "        print(combined)\n",
        "\n",
        "    return combined\n"
      ],
      "execution_count": 0,
      "outputs": []
    },
    {
      "cell_type": "code",
      "metadata": {
        "id": "vkMpLM612ii1",
        "colab_type": "code",
        "outputId": "16896c26-42a2-4654-8c52-e341edf1962c",
        "colab": {
          "base_uri": "https://localhost:8080/",
          "height": 55
        }
      },
      "source": [
        "bert_predictions = np.array([item for sublist in predictions for item in sublist])\n",
        "flat_true_labels = [item for sublist in true_labels for item in sublist]\n",
        "\n",
        "print('Labels are same for bert test, svc test: ', flat_true_labels == svc_true_class_digit)\n",
        "bert_probabilities = [softmax(p) for p in bert_predictions]"
      ],
      "execution_count": 0,
      "outputs": [
        {
          "output_type": "execute_result",
          "data": {
            "text/plain": [
              "\"\\nSometimes you worry 'bout the things he can provide for ya\\nWhenever you around I seem to come alive for ya\\nI finally recognize the feelings that's inside for ya\\nAlthough I know your man and trust me he would die for ya\\nThese quiet thoughts of you been going on for years now\\nI saw you in the party, soft lips, soft spoken\\nI came and talked to you but homie interfered now\\nHe introduced you as his girl and I was heartbroken\\nSome people talk about that love at first sight shit\\nTo keep it real I don't know whether I believe it's true\\nBut if it is then tell me if I'm wrong or right\\nIf I fell in love with you before I ever even knew\\nI catch your eye then look away as if it never happened\\nAt times I feel as though I'm caught up in a strange dream\\nIf eyes could talk then mines would tell ya that I'm feeling you\\nSometimes I swear your eyes be telling me the same thing\\n\\n\""
            ]
          },
          "metadata": {
            "tags": []
          },
          "execution_count": 67
        }
      ]
    },
    {
      "cell_type": "markdown",
      "metadata": {
        "id": "Gkkp1Jv90TnO",
        "colab_type": "text"
      },
      "source": [
        "##b) SVC Predictions"
      ]
    },
    {
      "cell_type": "code",
      "metadata": {
        "id": "fOjvMoBhyO5n",
        "colab_type": "code",
        "outputId": "ce65cd69-8472-4931-feb9-44c45a082ca2",
        "colab": {
          "base_uri": "https://localhost:8080/",
          "height": 202
        }
      },
      "source": [
        "svc_probabilities = svc_pipeline.predict_proba(verses_test_df)\n",
        "# svc_predictions = svc_pipeline.predict(verses_test_df)\n"
      ],
      "execution_count": 0,
      "outputs": [
        {
          "output_type": "stream",
          "text": [
            "Loading Doc2Vec Model..\n",
            "Loaded.\n"
          ],
          "name": "stdout"
        },
        {
          "output_type": "stream",
          "text": [
            "/usr/local/lib/python3.6/dist-packages/smart_open/smart_open_lib.py:410: UserWarning: This function is deprecated, use smart_open.open instead. See the migration notes for details: https://github.com/RaRe-Technologies/smart_open/blob/master/README.rst#migrating-to-the-new-open-function\n",
            "  'See the migration notes for details: %s' % _MIGRATION_NOTES_URL\n"
          ],
          "name": "stderr"
        },
        {
          "output_type": "stream",
          "text": [
            "[0.00323267 0.00051003 0.9810253  0.0103203  0.00079047 0.00247226\n",
            " 0.00164893]\n",
            "[0.00076195 0.00000016 0.997396   0.00002974 0.00000013 0.00000204\n",
            " 0.00180998]\n"
          ],
          "name": "stdout"
        },
        {
          "output_type": "execute_result",
          "data": {
            "text/plain": [
              "'J. Cole'"
            ]
          },
          "metadata": {
            "tags": []
          },
          "execution_count": 80
        }
      ]
    },
    {
      "cell_type": "markdown",
      "metadata": {
        "id": "p30zKz6n1VgQ",
        "colab_type": "text"
      },
      "source": [
        "##c) Combining"
      ]
    },
    {
      "cell_type": "code",
      "metadata": {
        "id": "2-U8tc_i1YKm",
        "colab_type": "code",
        "outputId": "84f6b718-2c23-4807-85f5-ccb895f2a2f8",
        "colab": {
          "base_uri": "https://localhost:8080/",
          "height": 1000
        }
      },
      "source": [
        "combined_binar = [combine_predict(bert_probabilities[i], svc_probabilities[i], i) for i in range(len(bert_probabilities)) ]\n",
        "\n",
        "combined_prediction = [artists[digit] for digit in combined_binar]\n",
        "\n",
        "print(classifier_report(test_labels, combined_prediction))\n",
        "# generate_cm(test_labels, combined_prediction, artists, normalize=None, title='Combining BERT and SVC Predictions', size=(10,8))"
      ],
      "execution_count": 0,
      "outputs": [
        {
          "output_type": "stream",
          "text": [
            "\n",
            "Disagreement at  2 \n",
            "BERT:  1  ,  0.80177903 % conf\n",
            "SVC:  3  ,  0.033263847 % conf\n",
            "1\n",
            "\n",
            "Disagreement at  3 \n",
            "BERT:  6  ,  0.8652535 % conf\n",
            "SVC:  1  ,  0.11076007 % conf\n",
            "6\n",
            "\n",
            "Disagreement at  4 \n",
            "BERT:  4  ,  0.49162003 % conf\n",
            "SVC:  1  ,  0.32210204 % conf\n",
            "1\n",
            "\n",
            "Disagreement at  10 \n",
            "BERT:  6  ,  0.98317724 % conf\n",
            "SVC:  1  ,  0.009407278 % conf\n",
            "6\n",
            "\n",
            "Disagreement at  11 \n",
            "BERT:  3  ,  0.50836074 % conf\n",
            "SVC:  2  ,  0.47341344 % conf\n",
            "2\n",
            "\n",
            "Disagreement at  13 \n",
            "BERT:  3  ,  0.9618257 % conf\n",
            "SVC:  6  ,  0.005140988 % conf\n",
            "3\n",
            "\n",
            "Disagreement at  14 \n",
            "BERT:  4  ,  0.9298412 % conf\n",
            "SVC:  5  ,  0.0038741576 % conf\n",
            "4\n",
            "\n",
            "Disagreement at  16 \n",
            "BERT:  1  ,  0.96188504 % conf\n",
            "SVC:  5  ,  0.00988557 % conf\n",
            "1\n",
            "\n",
            "Disagreement at  17 \n",
            "BERT:  2  ,  0.97109824 % conf\n",
            "SVC:  3  ,  0.023448339 % conf\n",
            "3\n",
            "\n",
            "Disagreement at  21 \n",
            "BERT:  3  ,  0.7469859 % conf\n",
            "SVC:  2  ,  0.007966602 % conf\n",
            "3\n",
            "\n",
            "Disagreement at  25 \n",
            "BERT:  0  ,  0.7068273 % conf\n",
            "SVC:  2  ,  0.030030921 % conf\n",
            "0\n",
            "\n",
            "Disagreement at  26 \n",
            "BERT:  3  ,  0.5994635 % conf\n",
            "SVC:  5  ,  0.014390758 % conf\n",
            "3\n",
            "\n",
            "Disagreement at  27 \n",
            "BERT:  3  ,  0.9626675 % conf\n",
            "SVC:  2  ,  0.0064373915 % conf\n",
            "2\n",
            "\n",
            "Disagreement at  29 \n",
            "BERT:  3  ,  0.90358585 % conf\n",
            "SVC:  2  ,  0.087926365 % conf\n",
            "3\n",
            "\n",
            "Disagreement at  34 \n",
            "BERT:  5  ,  0.9770472 % conf\n",
            "SVC:  6  ,  0.0017240535 % conf\n",
            "5\n",
            "\n",
            "Disagreement at  36 \n",
            "BERT:  4  ,  0.422267 % conf\n",
            "SVC:  1  ,  0.13247104 % conf\n",
            "4\n",
            "\n",
            "Disagreement at  38 \n",
            "BERT:  4  ,  0.32993934 % conf\n",
            "SVC:  6  ,  0.2620568 % conf\n",
            "6\n",
            "\n",
            "Disagreement at  40 \n",
            "BERT:  4  ,  0.65625197 % conf\n",
            "SVC:  1  ,  0.14237402 % conf\n",
            "1\n",
            "\n",
            "Disagreement at  42 \n",
            "BERT:  6  ,  0.82225204 % conf\n",
            "SVC:  1  ,  0.16543582 % conf\n",
            "1\n",
            "\n",
            "Disagreement at  43 \n",
            "BERT:  3  ,  0.93955886 % conf\n",
            "SVC:  4  ,  0.0042804554 % conf\n",
            "3\n",
            "\n",
            "Disagreement at  47 \n",
            "BERT:  3  ,  0.6847626 % conf\n",
            "SVC:  2  ,  0.30523336 % conf\n",
            "2\n",
            "\n",
            "Disagreement at  54 \n",
            "BERT:  3  ,  0.85138553 % conf\n",
            "SVC:  2  ,  0.14052796 % conf\n",
            "2\n",
            "\n",
            "Disagreement at  58 \n",
            "BERT:  0  ,  0.8428904 % conf\n",
            "SVC:  6  ,  0.048678387 % conf\n",
            "6\n",
            "\n",
            "Disagreement at  60 \n",
            "BERT:  6  ,  0.85358566 % conf\n",
            "SVC:  3  ,  0.09574265 % conf\n",
            "6\n",
            "\n",
            "Disagreement at  65 \n",
            "BERT:  3  ,  0.5741983 % conf\n",
            "SVC:  2  ,  0.16666968 % conf\n",
            "2\n",
            "\n",
            "Disagreement at  67 \n",
            "BERT:  3  ,  0.5775537 % conf\n",
            "SVC:  6  ,  0.071818724 % conf\n",
            "6\n",
            "\n",
            "Disagreement at  71 \n",
            "BERT:  6  ,  0.6149217 % conf\n",
            "SVC:  1  ,  0.27699003 % conf\n",
            "1\n",
            "\n",
            "Disagreement at  75 \n",
            "BERT:  6  ,  0.57747954 % conf\n",
            "SVC:  5  ,  0.0064314245 % conf\n",
            "5\n",
            "\n",
            "Disagreement at  80 \n",
            "BERT:  6  ,  0.5066287 % conf\n",
            "SVC:  3  ,  0.04317933 % conf\n",
            "3\n",
            "\n",
            "Disagreement at  81 \n",
            "BERT:  3  ,  0.8370966 % conf\n",
            "SVC:  1  ,  0.005022219 % conf\n",
            "3\n",
            "\n",
            "Disagreement at  84 \n",
            "BERT:  4  ,  0.9712023 % conf\n",
            "SVC:  1  ,  0.009904852 % conf\n",
            "4\n",
            "\n",
            "Disagreement at  93 \n",
            "BERT:  3  ,  0.5566883 % conf\n",
            "SVC:  0  ,  0.018690273 % conf\n",
            "3\n",
            "\n",
            "Disagreement at  95 \n",
            "BERT:  6  ,  0.975063 % conf\n",
            "SVC:  2  ,  0.0028543328 % conf\n",
            "6\n",
            "\n",
            "Disagreement at  99 \n",
            "BERT:  5  ,  0.9425244 % conf\n",
            "SVC:  4  ,  0.012805522 % conf\n",
            "5\n",
            "\n",
            "Disagreement at  102 \n",
            "BERT:  5  ,  0.9820249 % conf\n",
            "SVC:  1  ,  0.0033343236 % conf\n",
            "5\n",
            "\n",
            "Disagreement at  110 \n",
            "BERT:  6  ,  0.7308948 % conf\n",
            "SVC:  3  ,  0.008079713 % conf\n",
            "6\n",
            "\n",
            "Disagreement at  112 \n",
            "BERT:  0  ,  0.8719392 % conf\n",
            "SVC:  1  ,  0.04783112 % conf\n",
            "0\n",
            "\n",
            "Disagreement at  114 \n",
            "BERT:  4  ,  0.9497213 % conf\n",
            "SVC:  1  ,  0.0032233745 % conf\n",
            "4\n",
            "\n",
            "Disagreement at  115 \n",
            "BERT:  3  ,  0.867142 % conf\n",
            "SVC:  2  ,  0.0044756746 % conf\n",
            "2\n",
            "\n",
            "Disagreement at  117 \n",
            "BERT:  2  ,  0.78865415 % conf\n",
            "SVC:  4  ,  0.002092303 % conf\n",
            "2\n",
            "\n",
            "Disagreement at  120 \n",
            "BERT:  4  ,  0.9549097 % conf\n",
            "SVC:  5  ,  0.0026727552 % conf\n",
            "4\n",
            "\n",
            "Disagreement at  123 \n",
            "BERT:  5  ,  0.60940325 % conf\n",
            "SVC:  3  ,  0.046595342 % conf\n",
            "3\n",
            "\n",
            "Disagreement at  125 \n",
            "BERT:  3  ,  0.961752 % conf\n",
            "SVC:  2  ,  0.029060202 % conf\n",
            "2\n",
            "\n",
            "Disagreement at  140 \n",
            "BERT:  5  ,  0.8549871 % conf\n",
            "SVC:  2  ,  0.008425344 % conf\n",
            "5\n",
            "\n",
            "Disagreement at  141 \n",
            "BERT:  3  ,  0.96379244 % conf\n",
            "SVC:  2  ,  0.02460372 % conf\n",
            "3\n",
            "\n",
            "Disagreement at  143 \n",
            "BERT:  6  ,  0.9082133 % conf\n",
            "SVC:  1  ,  0.027379284 % conf\n",
            "6\n",
            "\n",
            "Disagreement at  147 \n",
            "BERT:  2  ,  0.75682896 % conf\n",
            "SVC:  6  ,  0.002298862 % conf\n",
            "2\n",
            "\n",
            "Disagreement at  158 \n",
            "BERT:  5  ,  0.8096369 % conf\n",
            "SVC:  0  ,  0.12780948 % conf\n",
            "5\n",
            "\n",
            "Disagreement at  159 \n",
            "BERT:  5  ,  0.86532354 % conf\n",
            "SVC:  0  ,  0.0026695488 % conf\n",
            "5\n",
            "\n",
            "Disagreement at  160 \n",
            "BERT:  2  ,  0.61339283 % conf\n",
            "SVC:  3  ,  0.3772129 % conf\n",
            "3\n",
            "\n",
            "Disagreement at  162 \n",
            "BERT:  1  ,  0.95543116 % conf\n",
            "SVC:  6  ,  0.009833011 % conf\n",
            "1\n",
            "\n",
            "Disagreement at  164 \n",
            "BERT:  6  ,  0.94660586 % conf\n",
            "SVC:  0  ,  0.018666051 % conf\n",
            "6\n",
            "\n",
            "Disagreement at  170 \n",
            "BERT:  6  ,  0.5763744 % conf\n",
            "SVC:  1  ,  0.40735564 % conf\n",
            "1\n",
            "\n",
            "Disagreement at  171 \n",
            "BERT:  6  ,  0.9018035 % conf\n",
            "SVC:  3  ,  0.004507983 % conf\n",
            "6\n",
            "\n",
            "Disagreement at  172 \n",
            "BERT:  6  ,  0.67912483 % conf\n",
            "SVC:  5  ,  0.06318382 % conf\n",
            "5\n",
            "\n",
            "Disagreement at  174 \n",
            "BERT:  6  ,  0.7201688 % conf\n",
            "SVC:  1  ,  0.15018968 % conf\n",
            "6\n",
            "\n",
            "Disagreement at  177 \n",
            "BERT:  3  ,  0.59573805 % conf\n",
            "SVC:  2  ,  0.15174432 % conf\n",
            "2\n",
            "\n",
            "Disagreement at  179 \n",
            "BERT:  5  ,  0.8272928 % conf\n",
            "SVC:  4  ,  0.0952485 % conf\n",
            "5\n",
            "\n",
            "Disagreement at  181 \n",
            "BERT:  3  ,  0.36691913 % conf\n",
            "SVC:  0  ,  0.11809578 % conf\n",
            "3\n",
            "\n",
            "Disagreement at  186 \n",
            "BERT:  4  ,  0.588333 % conf\n",
            "SVC:  5  ,  0.004727455 % conf\n",
            "5\n",
            "\n",
            "Disagreement at  187 \n",
            "BERT:  6  ,  0.3817119 % conf\n",
            "SVC:  0  ,  0.36330828 % conf\n",
            "0\n",
            "\n",
            "Disagreement at  188 \n",
            "BERT:  5  ,  0.7066255 % conf\n",
            "SVC:  3  ,  0.17967446 % conf\n",
            "3\n",
            "\n",
            "Disagreement at  190 \n",
            "BERT:  2  ,  0.5073647 % conf\n",
            "SVC:  3  ,  0.4833912 % conf\n",
            "3\n",
            "\n",
            "Disagreement at  191 \n",
            "BERT:  5  ,  0.98139584 % conf\n",
            "SVC:  1  ,  0.005303147 % conf\n",
            "5\n",
            "\n",
            "Disagreement at  195 \n",
            "BERT:  6  ,  0.9821033 % conf\n",
            "SVC:  4  ,  0.0037684122 % conf\n",
            "6\n",
            "\n",
            "Disagreement at  201 \n",
            "BERT:  1  ,  0.80998987 % conf\n",
            "SVC:  5  ,  0.09872643 % conf\n",
            "5\n",
            "\n",
            "Disagreement at  204 \n",
            "BERT:  1  ,  0.7309329 % conf\n",
            "SVC:  0  ,  0.17716134 % conf\n",
            "0\n",
            "\n",
            "Disagreement at  207 \n",
            "BERT:  6  ,  0.98233676 % conf\n",
            "SVC:  3  ,  0.0026790774 % conf\n",
            "6\n",
            "\n",
            "Disagreement at  208 \n",
            "BERT:  1  ,  0.84266835 % conf\n",
            "SVC:  5  ,  0.045938153 % conf\n",
            "1\n",
            "\n",
            "Disagreement at  212 \n",
            "BERT:  6  ,  0.53017354 % conf\n",
            "SVC:  3  ,  0.23350666 % conf\n",
            "3\n",
            "\n",
            "Disagreement at  216 \n",
            "BERT:  0  ,  0.43220899 % conf\n",
            "SVC:  3  ,  0.044430498 % conf\n",
            "0\n",
            "\n",
            "Disagreement at  217 \n",
            "BERT:  3  ,  0.8737561 % conf\n",
            "SVC:  5  ,  0.009507446 % conf\n",
            "5\n",
            "\n",
            "Disagreement at  220 \n",
            "BERT:  5  ,  0.98289055 % conf\n",
            "SVC:  2  ,  0.006594645 % conf\n",
            "5\n",
            "\n",
            "Disagreement at  229 \n",
            "BERT:  1  ,  0.942063 % conf\n",
            "SVC:  5  ,  0.0022592163 % conf\n",
            "1\n",
            "\n",
            "Disagreement at  236 \n",
            "BERT:  6  ,  0.9455414 % conf\n",
            "SVC:  1  ,  0.04743328 % conf\n",
            "6\n",
            "\n",
            "Disagreement at  239 \n",
            "BERT:  5  ,  0.812197 % conf\n",
            "SVC:  3  ,  0.01289581 % conf\n",
            "5\n",
            "\n",
            "Disagreement at  244 \n",
            "BERT:  0  ,  0.90460515 % conf\n",
            "SVC:  3  ,  0.031764653 % conf\n",
            "0\n",
            "\n",
            "Disagreement at  245 \n",
            "BERT:  0  ,  0.42453516 % conf\n",
            "SVC:  2  ,  0.35871023 % conf\n",
            "2\n",
            "\n",
            "Disagreement at  248 \n",
            "BERT:  6  ,  0.6145254 % conf\n",
            "SVC:  3  ,  0.012598435 % conf\n",
            "6\n",
            "\n",
            "Disagreement at  250 \n",
            "BERT:  2  ,  0.5759747 % conf\n",
            "SVC:  3  ,  0.41489634 % conf\n",
            "3\n",
            "\n",
            "Disagreement at  254 \n",
            "BERT:  5  ,  0.82181114 % conf\n",
            "SVC:  3  ,  0.013522432 % conf\n",
            "5\n",
            "\n",
            "Disagreement at  258 \n",
            "BERT:  3  ,  0.95139104 % conf\n",
            "SVC:  5  ,  0.003542593 % conf\n",
            "3\n",
            "\n",
            "Disagreement at  262 \n",
            "BERT:  2  ,  0.9277645 % conf\n",
            "SVC:  6  ,  0.0014848895 % conf\n",
            "2\n",
            "\n",
            "Disagreement at  265 \n",
            "BERT:  3  ,  0.6148406 % conf\n",
            "SVC:  2  ,  0.053291075 % conf\n",
            "3\n",
            "\n",
            "Disagreement at  267 \n",
            "BERT:  0  ,  0.74142003 % conf\n",
            "SVC:  3  ,  0.021358844 % conf\n",
            "0\n",
            "\n",
            "Disagreement at  268 \n",
            "BERT:  1  ,  0.9473793 % conf\n",
            "SVC:  6  ,  0.030534947 % conf\n",
            "1\n",
            "\n",
            "Disagreement at  270 \n",
            "BERT:  4  ,  0.6667869 % conf\n",
            "SVC:  3  ,  0.059597723 % conf\n",
            "4\n",
            "\n",
            "Disagreement at  271 \n",
            "BERT:  1  ,  0.9748273 % conf\n",
            "SVC:  6  ,  0.008420786 % conf\n",
            "1\n",
            "\n",
            "Disagreement at  273 \n",
            "BERT:  4  ,  0.40614697 % conf\n",
            "SVC:  3  ,  0.12110508 % conf\n",
            "3\n",
            "\n",
            "Disagreement at  275 \n",
            "BERT:  1  ,  0.61592805 % conf\n",
            "SVC:  3  ,  0.029983062 % conf\n",
            "3\n",
            "\n",
            "Disagreement at  281 \n",
            "BERT:  4  ,  0.9645435 % conf\n",
            "SVC:  5  ,  0.008853169 % conf\n",
            "4\n",
            "\n",
            "Disagreement at  282 \n",
            "BERT:  1  ,  0.6187164 % conf\n",
            "SVC:  6  ,  0.3562179 % conf\n",
            "6\n",
            "\n",
            "Disagreement at  285 \n",
            "BERT:  0  ,  0.6519585 % conf\n",
            "SVC:  6  ,  0.011831544 % conf\n",
            "6\n",
            "\n",
            "Disagreement at  289 \n",
            "BERT:  1  ,  0.769879 % conf\n",
            "SVC:  5  ,  0.20737441 % conf\n",
            "5\n",
            "\n",
            "Disagreement at  291 \n",
            "BERT:  6  ,  0.88050354 % conf\n",
            "SVC:  3  ,  0.08410117 % conf\n",
            "6\n",
            "\n",
            "Disagreement at  293 \n",
            "BERT:  6  ,  0.9336187 % conf\n",
            "SVC:  3  ,  0.020498008 % conf\n",
            "3\n",
            "\n",
            "Disagreement at  306 \n",
            "BERT:  4  ,  0.9590593 % conf\n",
            "SVC:  1  ,  0.021955427 % conf\n",
            "4\n",
            "\n",
            "Disagreement at  307 \n",
            "BERT:  6  ,  0.975047 % conf\n",
            "SVC:  5  ,  0.0011670784 % conf\n",
            "6\n",
            "\n",
            "Disagreement at  309 \n",
            "BERT:  1  ,  0.88899547 % conf\n",
            "SVC:  6  ,  0.001856359 % conf\n",
            "1\n",
            "\n",
            "Disagreement at  314 \n",
            "BERT:  6  ,  0.8036842 % conf\n",
            "SVC:  5  ,  0.0024945836 % conf\n",
            "6\n",
            "\n",
            "Disagreement at  319 \n",
            "BERT:  6  ,  0.9855031 % conf\n",
            "SVC:  1  ,  0.0046694856 % conf\n",
            "6\n",
            "\n",
            "Disagreement at  320 \n",
            "BERT:  6  ,  0.82225204 % conf\n",
            "SVC:  1  ,  0.16543582 % conf\n",
            "1\n",
            "\n",
            "Disagreement at  324 \n",
            "BERT:  4  ,  0.51533574 % conf\n",
            "SVC:  0  ,  0.4422119 % conf\n",
            "0\n",
            "\n",
            "Disagreement at  329 \n",
            "BERT:  6  ,  0.8430407 % conf\n",
            "SVC:  2  ,  0.0018649166 % conf\n",
            "6\n",
            "\n",
            "Disagreement at  331 \n",
            "BERT:  2  ,  0.4772274 % conf\n",
            "SVC:  4  ,  0.120223396 % conf\n",
            "4\n",
            "\n",
            "Disagreement at  333 \n",
            "BERT:  0  ,  0.3954061 % conf\n",
            "SVC:  5  ,  0.032957945 % conf\n",
            "3\n",
            "\n",
            "Disagreement at  335 \n",
            "BERT:  3  ,  0.8145966 % conf\n",
            "SVC:  4  ,  0.0020229486 % conf\n",
            "3\n",
            "\n",
            "Disagreement at  336 \n",
            "BERT:  6  ,  0.85012764 % conf\n",
            "SVC:  1  ,  0.13509609 % conf\n",
            "6\n",
            "\n",
            "Disagreement at  338 \n",
            "BERT:  6  ,  0.6065721 % conf\n",
            "SVC:  1  ,  0.2779939 % conf\n",
            "6\n",
            "\n",
            "Disagreement at  340 \n",
            "BERT:  6  ,  0.97679776 % conf\n",
            "SVC:  2  ,  0.0008295163 % conf\n",
            "6\n",
            "\n",
            "Disagreement at  341 \n",
            "BERT:  5  ,  0.49658 % conf\n",
            "SVC:  2  ,  0.01202208 % conf\n",
            "5\n",
            "\n",
            "Disagreement at  344 \n",
            "BERT:  3  ,  0.60513973 % conf\n",
            "SVC:  6  ,  0.07059066 % conf\n",
            "6\n",
            "\n",
            "Disagreement at  345 \n",
            "BERT:  1  ,  0.8550561 % conf\n",
            "SVC:  6  ,  0.118021846 % conf\n",
            "1\n",
            "\n",
            "Disagreement at  348 \n",
            "BERT:  3  ,  0.38908187 % conf\n",
            "SVC:  6  ,  0.38156137 % conf\n",
            "6\n",
            "\n",
            "Disagreement at  349 \n",
            "BERT:  6  ,  0.9705166 % conf\n",
            "SVC:  3  ,  0.0039779516 % conf\n",
            "6\n",
            "\n",
            "Disagreement at  352 \n",
            "BERT:  6  ,  0.98883265 % conf\n",
            "SVC:  0  ,  0.0018447738 % conf\n",
            "6\n",
            "\n",
            "Disagreement at  355 \n",
            "BERT:  3  ,  0.9125427 % conf\n",
            "SVC:  2  ,  0.07814428 % conf\n",
            "2\n",
            "\n",
            "Disagreement at  357 \n",
            "BERT:  4  ,  0.89973706 % conf\n",
            "SVC:  3  ,  0.060620617 % conf\n",
            "3\n",
            "\n",
            "Disagreement at  358 \n",
            "BERT:  1  ,  0.8632157 % conf\n",
            "SVC:  6  ,  0.091869235 % conf\n",
            "6\n",
            "\n",
            "Disagreement at  362 \n",
            "BERT:  4  ,  0.64071125 % conf\n",
            "SVC:  0  ,  0.31734496 % conf\n",
            "0\n",
            "\n",
            "Disagreement at  368 \n",
            "BERT:  3  ,  0.97400504 % conf\n",
            "SVC:  2  ,  0.019374209 % conf\n",
            "2\n",
            "\n",
            "Disagreement at  369 \n",
            "BERT:  2  ,  0.9751519 % conf\n",
            "SVC:  4  ,  0.0009883515 % conf\n",
            "2\n",
            "\n",
            "Disagreement at  372 \n",
            "BERT:  6  ,  0.92384076 % conf\n",
            "SVC:  5  ,  0.011623579 % conf\n",
            "6\n",
            "\n",
            "Disagreement at  376 \n",
            "BERT:  3  ,  0.5944996 % conf\n",
            "SVC:  0  ,  0.0050001093 % conf\n",
            "3\n",
            "\n",
            "Disagreement at  393 \n",
            "BERT:  6  ,  0.9363573 % conf\n",
            "SVC:  3  ,  0.012612367 % conf\n",
            "6\n",
            "\n",
            "Disagreement at  394 \n",
            "BERT:  6  ,  0.93550366 % conf\n",
            "SVC:  3  ,  0.027615167 % conf\n",
            "6\n",
            "\n",
            "Disagreement at  395 \n",
            "BERT:  3  ,  0.81666493 % conf\n",
            "SVC:  5  ,  0.047987297 % conf\n",
            "3\n",
            "\n",
            "Disagreement at  399 \n",
            "BERT:  1  ,  0.68348324 % conf\n",
            "SVC:  6  ,  0.13163447 % conf\n",
            "6\n",
            "\n",
            "Disagreement at  401 \n",
            "BERT:  6  ,  0.66355413 % conf\n",
            "SVC:  3  ,  0.029797608 % conf\n",
            "6\n",
            "\n",
            "Disagreement at  405 \n",
            "BERT:  2  ,  0.7926035 % conf\n",
            "SVC:  3  ,  0.19587329 % conf\n",
            "3\n",
            "\n",
            "Disagreement at  409 \n",
            "BERT:  3  ,  0.8059381 % conf\n",
            "SVC:  2  ,  0.1720719 % conf\n",
            "3\n",
            "\n",
            "Disagreement at  413 \n",
            "BERT:  4  ,  0.9501076 % conf\n",
            "SVC:  3  ,  0.006123435 % conf\n",
            "4\n",
            "\n",
            "Disagreement at  415 \n",
            "BERT:  1  ,  0.40108266 % conf\n",
            "SVC:  4  ,  0.06130941 % conf\n",
            "4\n",
            "\n",
            "Disagreement at  416 \n",
            "BERT:  1  ,  0.5307443 % conf\n",
            "SVC:  3  ,  0.16132104 % conf\n",
            "1\n",
            "\n",
            "Disagreement at  419 \n",
            "BERT:  6  ,  0.9588871 % conf\n",
            "SVC:  3  ,  0.0049781734 % conf\n",
            "6\n",
            "\n",
            "Disagreement at  425 \n",
            "BERT:  3  ,  0.9737573 % conf\n",
            "SVC:  6  ,  0.000885669 % conf\n",
            "3\n",
            "\n",
            "Disagreement at  426 \n",
            "BERT:  1  ,  0.45777953 % conf\n",
            "SVC:  2  ,  0.020734174 % conf\n",
            "2\n",
            "\n",
            "Disagreement at  429 \n",
            "BERT:  6  ,  0.46565145 % conf\n",
            "SVC:  2  ,  0.005194841 % conf\n",
            "2\n",
            "\n",
            "Disagreement at  432 \n",
            "BERT:  2  ,  0.95895225 % conf\n",
            "SVC:  3  ,  0.03578757 % conf\n",
            "2\n",
            "\n",
            "Disagreement at  433 \n",
            "BERT:  0  ,  0.9046011 % conf\n",
            "SVC:  5  ,  0.005860459 % conf\n",
            "0\n",
            "\n",
            "Disagreement at  434 \n",
            "BERT:  3  ,  0.47905624 % conf\n",
            "SVC:  5  ,  0.024555288 % conf\n",
            "5\n",
            "\n",
            "Disagreement at  437 \n",
            "BERT:  3  ,  0.34475258 % conf\n",
            "SVC:  5  ,  0.3016604 % conf\n",
            "5\n",
            "\n",
            "Disagreement at  452 \n",
            "BERT:  3  ,  0.6322875 % conf\n",
            "SVC:  2  ,  0.012994736 % conf\n",
            "3\n",
            "\n",
            "Disagreement at  457 \n",
            "BERT:  1  ,  0.9841754 % conf\n",
            "SVC:  0  ,  0.0033194793 % conf\n",
            "1\n",
            "\n",
            "Disagreement at  459 \n",
            "BERT:  0  ,  0.91833436 % conf\n",
            "SVC:  2  ,  0.013525912 % conf\n",
            "0\n",
            "\n",
            "Disagreement at  462 \n",
            "BERT:  6  ,  0.73710096 % conf\n",
            "SVC:  4  ,  0.19065976 % conf\n",
            "6\n",
            "\n",
            "Disagreement at  466 \n",
            "BERT:  1  ,  0.8863403 % conf\n",
            "SVC:  5  ,  0.09932669 % conf\n",
            "1\n",
            "\n",
            "Disagreement at  468 \n",
            "BERT:  3  ,  0.9007493 % conf\n",
            "SVC:  2  ,  0.014546976 % conf\n",
            "3\n",
            "\n",
            "Disagreement at  469 \n",
            "BERT:  2  ,  0.4322154 % conf\n",
            "SVC:  5  ,  0.25473574 % conf\n",
            "5\n",
            "\n",
            "Disagreement at  470 \n",
            "BERT:  6  ,  0.62331504 % conf\n",
            "SVC:  5  ,  0.004827402 % conf\n",
            "5\n",
            "\n",
            "Disagreement at  471 \n",
            "BERT:  4  ,  0.70579684 % conf\n",
            "SVC:  1  ,  0.012239284 % conf\n",
            "1\n",
            "{'accuracy': 0.781, 'precision': 0.647, 'recall': 0.773, 'f1': 0.781}\n"
          ],
          "name": "stdout"
        }
      ]
    },
    {
      "cell_type": "code",
      "metadata": {
        "id": "EFLsv2y-Awos",
        "colab_type": "code",
        "outputId": "7b25b97e-f4b4-41ea-e73f-194e3d4aa306",
        "colab": {
          "base_uri": "https://localhost:8080/",
          "height": 54
        }
      },
      "source": [
        "i=352 \n",
        "print(combined_prediction[i])\n",
        "test_labels[i]\n"
      ],
      "execution_count": 0,
      "outputs": [
        {
          "output_type": "stream",
          "text": [
            "Taylor Swift\n"
          ],
          "name": "stdout"
        },
        {
          "output_type": "execute_result",
          "data": {
            "text/plain": [
              "'Taylor Swift'"
            ]
          },
          "metadata": {
            "tags": []
          },
          "execution_count": 112
        }
      ]
    }
  ]
}